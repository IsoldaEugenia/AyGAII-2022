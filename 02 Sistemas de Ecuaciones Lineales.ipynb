{
 "cells": [
  {
   "cell_type": "code",
   "execution_count": 1,
   "metadata": {},
   "outputs": [],
   "source": [
    "%display latex"
   ]
  },
  {
   "cell_type": "markdown",
   "metadata": {},
   "source": [
    "## 4. Sistemas de Ecuaciones Lineales\n",
    "\n",
    "En la teoría de la unidad correspondiente vimos cómo podemos aplicar el cálculo matricial a la resolución de sistemas de ecuaciones lineales.\n"
   ]
  },
  {
   "cell_type": "markdown",
   "metadata": {},
   "source": [
    "### Operando por filas\n",
    "\n",
    "Vimos que aplicando operaciones elementales a las filas de una matriz asociada a un sistema, obtenemos otras matrices cuyos sistemas resultantes son equivalentes al original.\n",
    "\n",
    "En lo que sigue, veremos las OEF conocidas (escalamiento, eliminación e intercambio) y otras operaciones por fila que no son las que llamamos elementales, como por ejemplo agregar una fila a una matriz."
   ]
  },
  {
   "cell_type": "code",
   "execution_count": null,
   "metadata": {},
   "outputs": [],
   "source": [
    "Id = identity_matrix(3)"
   ]
  },
  {
   "cell_type": "code",
   "execution_count": null,
   "metadata": {},
   "outputs": [],
   "source": [
    "# A partir de la matriz identidad 3x3 nos armamos una que tiene una fila más al final:\n",
    "\n",
    "A = Id.insert_row(3,[1,2,3])\n",
    "A"
   ]
  },
  {
   "cell_type": "code",
   "execution_count": null,
   "metadata": {},
   "outputs": [],
   "source": [
    "# Si queremos agregar una fila luego de la segunda fila tenemos que avisarle al comando insert_row. Recordemos que\n",
    "# la cuenta empieza desde 0, o sea, para SageMath la primera fila está indexada por 0, la segunda por 1 y la tercera es la 2.\n",
    "\n",
    "A = A.insert_row(2, [2,-2,3])\n",
    "print(A)"
   ]
  },
  {
   "cell_type": "code",
   "execution_count": null,
   "metadata": {},
   "outputs": [],
   "source": [
    "# EJERCICIO: insertar una fila arriba de todo.\n",
    "\n"
   ]
  },
  {
   "cell_type": "code",
   "execution_count": null,
   "metadata": {},
   "outputs": [],
   "source": [
    "A = A.delete_rows([0])\n",
    "print(A)"
   ]
  },
  {
   "cell_type": "code",
   "execution_count": null,
   "metadata": {},
   "outputs": [],
   "source": [
    "m = A.nrows()"
   ]
  },
  {
   "cell_type": "code",
   "execution_count": null,
   "metadata": {},
   "outputs": [],
   "source": [
    "# Escalamiento: multipliquemos la última fila por -1. Recordar que contamos desde 0!\n",
    "\n",
    "A.rescale_row(m-1,-1)\n",
    "print(A)"
   ]
  },
  {
   "cell_type": "code",
   "execution_count": null,
   "metadata": {},
   "outputs": [],
   "source": [
    "# Eliminación: sumarle a la tercera fila dos veces la última fila.\n",
    "\n",
    "A.add_multiple_of_row(2, m-1, 2)"
   ]
  },
  {
   "cell_type": "code",
   "execution_count": null,
   "metadata": {},
   "outputs": [],
   "source": [
    "A"
   ]
  },
  {
   "cell_type": "code",
   "execution_count": null,
   "metadata": {},
   "outputs": [],
   "source": [
    "# Ejercicio: sumarle a la última fila la primera fila.\n",
    "\n"
   ]
  },
  {
   "cell_type": "code",
   "execution_count": null,
   "metadata": {},
   "outputs": [],
   "source": [
    "# Ejercicio: multiplicar la última fila por (-1)"
   ]
  },
  {
   "cell_type": "code",
   "execution_count": null,
   "metadata": {},
   "outputs": [],
   "source": [
    "# Multipliquemos la tercera fila por (-1/6)\n",
    "\n",
    "\n",
    "A.rescale_row(2,-1/6)"
   ]
  },
  {
   "cell_type": "markdown",
   "metadata": {},
   "source": [
    "NOS DIO ERROR!! Porqué? Porque considera las matrices, si no le decimos nada, en el anillo de los enteros. Entonces tenemos que cambiar el anillo base, cambiemoslo al anillo de los racionales ($\\mathbb{Q}$):"
   ]
  },
  {
   "cell_type": "code",
   "execution_count": null,
   "metadata": {},
   "outputs": [],
   "source": [
    "A = A.change_ring(QQ)"
   ]
  },
  {
   "cell_type": "code",
   "execution_count": null,
   "metadata": {},
   "outputs": [],
   "source": [
    "A.rescale_row(2,-1/6)\n",
    "print(A)"
   ]
  },
  {
   "cell_type": "code",
   "execution_count": null,
   "metadata": {},
   "outputs": [],
   "source": [
    "#Ejercicio: multiplicar la última fila por -1/2\n"
   ]
  },
  {
   "cell_type": "code",
   "execution_count": null,
   "metadata": {},
   "outputs": [],
   "source": [
    "# Intercambio: intercambiemos la última y penúltima filas\n",
    "\n",
    "A.swap_rows(m-1,m-2)\n",
    "print(A)"
   ]
  },
  {
   "cell_type": "code",
   "execution_count": null,
   "metadata": {},
   "outputs": [],
   "source": [
    "# Ejercicio: llevar la matriz a su FER."
   ]
  },
  {
   "cell_type": "markdown",
   "metadata": {},
   "source": [
    "## Sistemas de Ecuaciones Lineales\n",
    "\n",
    "Vamos a ver algunas formas de utilizar SageMath para resolver sistemas de ecuaciones lineales. SAGE resuelve ecuaciones de diversos tipos, sistemas de ecuaciones de diversos tipos, y de manera exacta, aproximada y hasta con valores simbólicos.\n",
    "\n",
    "En nuestro caso nos limitaremos a la resolución de ecuaciones lineales. Hay muchas formas de hacerlo, sólo exploraremos algunas.\n",
    "\n",
    "Para resolver ecuaciones se usa el comando solve: hay que darle la ecuación y la variable."
   ]
  },
  {
   "cell_type": "code",
   "execution_count": 2,
   "metadata": {},
   "outputs": [
    {
     "data": {
      "text/html": [
       "<html>\\(\\displaystyle \\left[x = \\left(-1\\right)\\right]\\)</html>"
      ],
      "text/latex": [
       "$\\displaystyle \\left[x = \\left(-1\\right)\\right]$"
      ],
      "text/plain": [
       "[x == -1]"
      ]
     },
     "execution_count": 2,
     "metadata": {},
     "output_type": "execute_result"
    }
   ],
   "source": [
    "solve( x + 1 == 0 , x)"
   ]
  },
  {
   "cell_type": "markdown",
   "metadata": {},
   "source": [
    "VERY IMPORTANT: dos cosas a tener muuuy en cuenta:\n",
    "\n",
    "1) el signo igual: va doble! porqué? Porque NO es una asignación, sino una comparación, requerimos que ambas expresiones sean iguales ($x+1$ y $0$).\n",
    "\n",
    "2) la variable se llama 'x': si ponemos otra variable sin avisarle a SAGE que resuelva en función de esa variable, no lo va a interpretar:"
   ]
  },
  {
   "cell_type": "code",
   "execution_count": 3,
   "metadata": {
    "scrolled": true
   },
   "outputs": [
    {
     "ename": "NameError",
     "evalue": "name 't' is not defined",
     "output_type": "error",
     "traceback": [
      "\u001b[0;31m---------------------------------------------------------------------------\u001b[0m",
      "\u001b[0;31mNameError\u001b[0m                                 Traceback (most recent call last)",
      "Input \u001b[0;32mIn [3]\u001b[0m, in \u001b[0;36m<cell line: 1>\u001b[0;34m()\u001b[0m\n\u001b[0;32m----> 1\u001b[0m solve (\u001b[43mt\u001b[49m\u001b[38;5;241m+\u001b[39mInteger(\u001b[38;5;241m1\u001b[39m)\u001b[38;5;241m==\u001b[39mInteger(\u001b[38;5;241m0\u001b[39m), t)\n",
      "\u001b[0;31mNameError\u001b[0m: name 't' is not defined"
     ]
    }
   ],
   "source": [
    "solve (t+1==0, t)"
   ]
  },
  {
   "cell_type": "markdown",
   "metadata": {},
   "source": [
    "Para avisarle a SAGE que 't' es la variable que nos interesa, usamos el comando var:"
   ]
  },
  {
   "cell_type": "code",
   "execution_count": 4,
   "metadata": {},
   "outputs": [
    {
     "data": {
      "text/html": [
       "<html>\\(\\displaystyle t\\)</html>"
      ],
      "text/latex": [
       "$\\displaystyle t$"
      ],
      "text/plain": [
       "t"
      ]
     },
     "execution_count": 4,
     "metadata": {},
     "output_type": "execute_result"
    }
   ],
   "source": [
    "var('t')"
   ]
  },
  {
   "cell_type": "code",
   "execution_count": 5,
   "metadata": {},
   "outputs": [
    {
     "data": {
      "text/html": [
       "<html>\\(\\displaystyle \\left[t = \\left(-1\\right)\\right]\\)</html>"
      ],
      "text/latex": [
       "$\\displaystyle \\left[t = \\left(-1\\right)\\right]$"
      ],
      "text/plain": [
       "[t == -1]"
      ]
     },
     "execution_count": 5,
     "metadata": {},
     "output_type": "execute_result"
    }
   ],
   "source": [
    "solve (t+1==0, t)"
   ]
  },
  {
   "cell_type": "markdown",
   "metadata": {},
   "source": [
    "Para resolver un sistema de ecuaciones, hay que darle a SAGE una lista con las ecuaciones, pero primero demos las variables:"
   ]
  },
  {
   "cell_type": "code",
   "execution_count": 6,
   "metadata": {},
   "outputs": [
    {
     "data": {
      "text/html": [
       "<html>\\(\\displaystyle \\left(x, y\\right)\\)</html>"
      ],
      "text/latex": [
       "$\\displaystyle \\left(x, y\\right)$"
      ],
      "text/plain": [
       "(x, y)"
      ]
     },
     "execution_count": 6,
     "metadata": {},
     "output_type": "execute_result"
    }
   ],
   "source": [
    "var('x,y')"
   ]
  },
  {
   "cell_type": "markdown",
   "metadata": {},
   "source": [
    "Supongamos que nuestro sistema es $\\left\\{ \\begin{array}{rcl} x+y & = & 2, \\\\ x-y & = & 0. \\end{array} \\right.$\n",
    "\n",
    "Para ingresar todas las ecuaciones debemos armar una lista, y ese será el argumento de la función solve."
   ]
  },
  {
   "cell_type": "code",
   "execution_count": 11,
   "metadata": {},
   "outputs": [
    {
     "data": {
      "text/html": [
       "<html>\\(\\displaystyle \\left[\\left[x = 1, y = 1\\right]\\right]\\)</html>"
      ],
      "text/latex": [
       "$\\displaystyle \\left[\\left[x = 1, y = 1\\right]\\right]$"
      ],
      "text/plain": [
       "[[x == 1, y == 1]]"
      ]
     },
     "execution_count": 11,
     "metadata": {},
     "output_type": "execute_result"
    }
   ],
   "source": [
    "solve([x + y == 2, x - y == 0], x, y)"
   ]
  },
  {
   "cell_type": "code",
   "execution_count": 12,
   "metadata": {},
   "outputs": [
    {
     "data": {
      "text/html": [
       "<html>\\(\\displaystyle \\left[\\left[x = -r_{2} + 2, y = r_{2}\\right]\\right]\\)</html>"
      ],
      "text/latex": [
       "$\\displaystyle \\left[\\left[x = -r_{2} + 2, y = r_{2}\\right]\\right]$"
      ],
      "text/plain": [
       "[[x == -r2 + 2, y == r2]]"
      ]
     },
     "execution_count": 12,
     "metadata": {},
     "output_type": "execute_result"
    }
   ],
   "source": [
    "solve([x + y == 2, 2*x + 2*y == 4], x, y)"
   ]
  },
  {
   "cell_type": "code",
   "execution_count": 13,
   "metadata": {},
   "outputs": [
    {
     "data": {
      "text/html": [
       "<html>\\(\\displaystyle \\left[\\right]\\)</html>"
      ],
      "text/latex": [
       "$\\displaystyle \\left[\\right]$"
      ],
      "text/plain": [
       "[]"
      ]
     },
     "execution_count": 13,
     "metadata": {},
     "output_type": "execute_result"
    }
   ],
   "source": [
    "solve([x + y == 2, 2*x + 2*y == 5], x, y)"
   ]
  },
  {
   "cell_type": "markdown",
   "metadata": {},
   "source": [
    "En los sistemas anteriores tenemos: el primero compatible determinado, el segundo compatible indeterminado (SAGE le llama r1 al parámetro, y si hubiera más les llamará r2, r3, etc.), y el último es incompatible."
   ]
  },
  {
   "cell_type": "markdown",
   "metadata": {},
   "source": [
    "A veces necesitamos nombrar a las ecuaciones, y luego armar la lista. Por ejemplo:"
   ]
  },
  {
   "cell_type": "code",
   "execution_count": 14,
   "metadata": {},
   "outputs": [
    {
     "data": {
      "text/html": [
       "<html>\\(\\displaystyle z\\)</html>"
      ],
      "text/latex": [
       "$\\displaystyle z$"
      ],
      "text/plain": [
       "z"
      ]
     },
     "execution_count": 14,
     "metadata": {},
     "output_type": "execute_result"
    }
   ],
   "source": [
    "var('z')"
   ]
  },
  {
   "cell_type": "code",
   "execution_count": 15,
   "metadata": {},
   "outputs": [],
   "source": [
    "ec1 = 2*x+4*y-3*z == 2"
   ]
  },
  {
   "cell_type": "markdown",
   "metadata": {},
   "source": [
    "Observar que x e y ya estaban definidas como variables, por eso sólo definí la z. También observar que el primer = es el que asigna la ecuación que sigue a la variable ec1."
   ]
  },
  {
   "cell_type": "code",
   "execution_count": 16,
   "metadata": {},
   "outputs": [],
   "source": [
    "ec2 = -x-3*y+z == -1"
   ]
  },
  {
   "cell_type": "code",
   "execution_count": 17,
   "metadata": {},
   "outputs": [
    {
     "data": {
      "text/html": [
       "<html>\\(\\displaystyle \\left[\\left[x = \\frac{5}{2} \\, r_{3} + 1, y = -\\frac{1}{2} \\, r_{3}, z = r_{3}\\right]\\right]\\)</html>"
      ],
      "text/latex": [
       "$\\displaystyle \\left[\\left[x = \\frac{5}{2} \\, r_{3} + 1, y = -\\frac{1}{2} \\, r_{3}, z = r_{3}\\right]\\right]$"
      ],
      "text/plain": [
       "[[x == 5/2*r3 + 1, y == -1/2*r3, z == r3]]"
      ]
     },
     "execution_count": 17,
     "metadata": {},
     "output_type": "execute_result"
    }
   ],
   "source": [
    "solve([ec1,ec2],x,y,z)"
   ]
  },
  {
   "cell_type": "code",
   "execution_count": 18,
   "metadata": {},
   "outputs": [
    {
     "data": {
      "text/html": [
       "<html>\\(\\displaystyle \\left[\\left[x = \\frac{5}{2} \\, z + 1, y = -\\frac{1}{2} \\, z\\right]\\right]\\)</html>"
      ],
      "text/latex": [
       "$\\displaystyle \\left[\\left[x = \\frac{5}{2} \\, z + 1, y = -\\frac{1}{2} \\, z\\right]\\right]$"
      ],
      "text/plain": [
       "[[x == 5/2*z + 1, y == -1/2*z]]"
      ]
     },
     "execution_count": 18,
     "metadata": {},
     "output_type": "execute_result"
    }
   ],
   "source": [
    "solve([ec1,ec2],x,y)"
   ]
  },
  {
   "cell_type": "markdown",
   "metadata": {},
   "source": [
    "Observemos la diferencia entre estas dos últimas expresiones. En la última celda no le dijimos a SAGE que resuelva con z como una variable más, así que la resolvió de manera simbólica."
   ]
  },
  {
   "cell_type": "markdown",
   "metadata": {},
   "source": [
    "Vamos a ver ahora la formulación matricial."
   ]
  },
  {
   "cell_type": "markdown",
   "metadata": {},
   "source": [
    "En primer lugar, hay un comando que lleva una matriz a una forma escalonada, usando operaciones por filas. Se puede hacer de dos formas, con el comando .echelon_form(), que NO cambia la matriz por su nueva versión, y el comando .echelonize() que SÍ cambia la matriz. Veamos, arrancamos con una matriz cualquiera, pensemos una 3x4."
   ]
  },
  {
   "cell_type": "code",
   "execution_count": 19,
   "metadata": {},
   "outputs": [
    {
     "data": {
      "text/html": [
       "<html>\\(\\displaystyle \\left(\\begin{array}{rrrr}\n",
       "1 & 4 & 6 & -1 \\\\\n",
       "3 & 6 & 0 & 8 \\\\\n",
       "0 & -3 & 8 & 1 \\\\\n",
       "1 & -2 & 0 & 0\n",
       "\\end{array}\\right)\\)</html>"
      ],
      "text/latex": [
       "$\\displaystyle \\left(\\begin{array}{rrrr}\n",
       "1 & 4 & 6 & -1 \\\\\n",
       "3 & 6 & 0 & 8 \\\\\n",
       "0 & -3 & 8 & 1 \\\\\n",
       "1 & -2 & 0 & 0\n",
       "\\end{array}\\right)$"
      ],
      "text/plain": [
       "[ 1  4  6 -1]\n",
       "[ 3  6  0  8]\n",
       "[ 0 -3  8  1]\n",
       "[ 1 -2  0  0]"
      ]
     },
     "execution_count": 19,
     "metadata": {},
     "output_type": "execute_result"
    }
   ],
   "source": [
    "A = matrix([[1,4,6,-1],[3,6,0,8],[0,-3,8,1],[1,-2,0,0]]); A"
   ]
  },
  {
   "cell_type": "code",
   "execution_count": 20,
   "metadata": {},
   "outputs": [
    {
     "data": {
      "text/html": [
       "<html>\\(\\displaystyle \\left(\\begin{array}{rrrr}\n",
       "1 & 1 & 0 & 31 \\\\\n",
       "0 & 3 & 0 & 31 \\\\\n",
       "0 & 0 & 2 & 95 \\\\\n",
       "0 & 0 & 0 & 116\n",
       "\\end{array}\\right)\\)</html>"
      ],
      "text/latex": [
       "$\\displaystyle \\left(\\begin{array}{rrrr}\n",
       "1 & 1 & 0 & 31 \\\\\n",
       "0 & 3 & 0 & 31 \\\\\n",
       "0 & 0 & 2 & 95 \\\\\n",
       "0 & 0 & 0 & 116\n",
       "\\end{array}\\right)$"
      ],
      "text/plain": [
       "[  1   1   0  31]\n",
       "[  0   3   0  31]\n",
       "[  0   0   2  95]\n",
       "[  0   0   0 116]"
      ]
     },
     "execution_count": 20,
     "metadata": {},
     "output_type": "execute_result"
    }
   ],
   "source": [
    "A.echelon_form()"
   ]
  },
  {
   "cell_type": "code",
   "execution_count": 21,
   "metadata": {},
   "outputs": [
    {
     "data": {
      "text/html": [
       "<html>\\(\\displaystyle \\left(\\begin{array}{rrrr}\n",
       "1 & 4 & 6 & -1 \\\\\n",
       "3 & 6 & 0 & 8 \\\\\n",
       "0 & -3 & 8 & 1 \\\\\n",
       "1 & -2 & 0 & 0\n",
       "\\end{array}\\right)\\)</html>"
      ],
      "text/latex": [
       "$\\displaystyle \\left(\\begin{array}{rrrr}\n",
       "1 & 4 & 6 & -1 \\\\\n",
       "3 & 6 & 0 & 8 \\\\\n",
       "0 & -3 & 8 & 1 \\\\\n",
       "1 & -2 & 0 & 0\n",
       "\\end{array}\\right)$"
      ],
      "text/plain": [
       "[ 1  4  6 -1]\n",
       "[ 3  6  0  8]\n",
       "[ 0 -3  8  1]\n",
       "[ 1 -2  0  0]"
      ]
     },
     "execution_count": 21,
     "metadata": {},
     "output_type": "execute_result"
    }
   ],
   "source": [
    "A"
   ]
  },
  {
   "cell_type": "code",
   "execution_count": 22,
   "metadata": {},
   "outputs": [],
   "source": [
    "A.echelonize()"
   ]
  },
  {
   "cell_type": "code",
   "execution_count": 23,
   "metadata": {},
   "outputs": [
    {
     "data": {
      "text/html": [
       "<html>\\(\\displaystyle \\left(\\begin{array}{rrrr}\n",
       "1 & 1 & 0 & 31 \\\\\n",
       "0 & 3 & 0 & 31 \\\\\n",
       "0 & 0 & 2 & 95 \\\\\n",
       "0 & 0 & 0 & 116\n",
       "\\end{array}\\right)\\)</html>"
      ],
      "text/latex": [
       "$\\displaystyle \\left(\\begin{array}{rrrr}\n",
       "1 & 1 & 0 & 31 \\\\\n",
       "0 & 3 & 0 & 31 \\\\\n",
       "0 & 0 & 2 & 95 \\\\\n",
       "0 & 0 & 0 & 116\n",
       "\\end{array}\\right)$"
      ],
      "text/plain": [
       "[  1   1   0  31]\n",
       "[  0   3   0  31]\n",
       "[  0   0   2  95]\n",
       "[  0   0   0 116]"
      ]
     },
     "execution_count": 23,
     "metadata": {},
     "output_type": "execute_result"
    }
   ],
   "source": [
    "A"
   ]
  },
  {
   "cell_type": "markdown",
   "metadata": {},
   "source": [
    "O sea, que A cambió a una forma de escalón, equivalente por filas a la A original.\n",
    "\n",
    "IMPORTANTE: Otra cosa a observar es que NO está reducida. Para reducirla hacemos como antes las OEF necesarias.\n"
   ]
  },
  {
   "cell_type": "markdown",
   "metadata": {},
   "source": [
    "Vamos ahora a intentar resolver un sistema en forma matricial: AX=b."
   ]
  },
  {
   "cell_type": "code",
   "execution_count": 24,
   "metadata": {},
   "outputs": [
    {
     "data": {
      "text/html": [
       "<html>\\(\\displaystyle \\left(\\begin{array}{rrrr}\n",
       "1 & 4 & 6 & -1 \\\\\n",
       "3 & 6 & 0 & 8 \\\\\n",
       "0 & -3 & 8 & 1 \\\\\n",
       "1 & -2 & 0 & 0\n",
       "\\end{array}\\right)\\)</html>"
      ],
      "text/latex": [
       "$\\displaystyle \\left(\\begin{array}{rrrr}\n",
       "1 & 4 & 6 & -1 \\\\\n",
       "3 & 6 & 0 & 8 \\\\\n",
       "0 & -3 & 8 & 1 \\\\\n",
       "1 & -2 & 0 & 0\n",
       "\\end{array}\\right)$"
      ],
      "text/plain": [
       "[ 1  4  6 -1]\n",
       "[ 3  6  0  8]\n",
       "[ 0 -3  8  1]\n",
       "[ 1 -2  0  0]"
      ]
     },
     "execution_count": 24,
     "metadata": {},
     "output_type": "execute_result"
    }
   ],
   "source": [
    "A = matrix([[1,4,6,-1],[3,6,0,8],[0,-3,8,1],[1,-2,0,0]]); A"
   ]
  },
  {
   "cell_type": "code",
   "execution_count": 25,
   "metadata": {},
   "outputs": [
    {
     "data": {
      "text/html": [
       "<html>\\(\\displaystyle \\left(\\begin{array}{rrrr}\n",
       "1 & 1 & 0 & 31 \\\\\n",
       "0 & 3 & 0 & 31 \\\\\n",
       "0 & 0 & 2 & 95 \\\\\n",
       "0 & 0 & 0 & 116\n",
       "\\end{array}\\right)\\)</html>"
      ],
      "text/latex": [
       "$\\displaystyle \\left(\\begin{array}{rrrr}\n",
       "1 & 1 & 0 & 31 \\\\\n",
       "0 & 3 & 0 & 31 \\\\\n",
       "0 & 0 & 2 & 95 \\\\\n",
       "0 & 0 & 0 & 116\n",
       "\\end{array}\\right)$"
      ],
      "text/plain": [
       "[  1   1   0  31]\n",
       "[  0   3   0  31]\n",
       "[  0   0   2  95]\n",
       "[  0   0   0 116]"
      ]
     },
     "execution_count": 25,
     "metadata": {},
     "output_type": "execute_result"
    }
   ],
   "source": [
    "A.echelon_form()"
   ]
  },
  {
   "cell_type": "code",
   "execution_count": 26,
   "metadata": {},
   "outputs": [
    {
     "data": {
      "text/html": [
       "<html>\\(\\displaystyle \\left(\\begin{array}{r}\n",
       "1 \\\\\n",
       "4 \\\\\n",
       "0 \\\\\n",
       "0\n",
       "\\end{array}\\right)\\)</html>"
      ],
      "text/latex": [
       "$\\displaystyle \\left(\\begin{array}{r}\n",
       "1 \\\\\n",
       "4 \\\\\n",
       "0 \\\\\n",
       "0\n",
       "\\end{array}\\right)$"
      ],
      "text/plain": [
       "[1]\n",
       "[4]\n",
       "[0]\n",
       "[0]"
      ]
     },
     "execution_count": 26,
     "metadata": {},
     "output_type": "execute_result"
    }
   ],
   "source": [
    "B = matrix([[1],[4],[0],[0]]); B"
   ]
  },
  {
   "cell_type": "code",
   "execution_count": 27,
   "metadata": {},
   "outputs": [
    {
     "data": {
      "text/html": [
       "<html>\\(\\displaystyle \\left(\\begin{array}{r}\n",
       "\\frac{10}{29} \\\\\n",
       "\\frac{5}{29} \\\\\n",
       "\\frac{1}{29} \\\\\n",
       "\\frac{7}{29}\n",
       "\\end{array}\\right)\\)</html>"
      ],
      "text/latex": [
       "$\\displaystyle \\left(\\begin{array}{r}\n",
       "\\frac{10}{29} \\\\\n",
       "\\frac{5}{29} \\\\\n",
       "\\frac{1}{29} \\\\\n",
       "\\frac{7}{29}\n",
       "\\end{array}\\right)$"
      ],
      "text/plain": [
       "[10/29]\n",
       "[ 5/29]\n",
       "[ 1/29]\n",
       "[ 7/29]"
      ]
     },
     "execution_count": 27,
     "metadata": {},
     "output_type": "execute_result"
    }
   ],
   "source": [
    " X = A.solve_right(B); X"
   ]
  },
  {
   "cell_type": "code",
   "execution_count": 28,
   "metadata": {},
   "outputs": [
    {
     "data": {
      "text/html": [
       "<html>\\(\\displaystyle \\left(\\begin{array}{r}\n",
       "0 \\\\\n",
       "0 \\\\\n",
       "0 \\\\\n",
       "0\n",
       "\\end{array}\\right)\\)</html>"
      ],
      "text/latex": [
       "$\\displaystyle \\left(\\begin{array}{r}\n",
       "0 \\\\\n",
       "0 \\\\\n",
       "0 \\\\\n",
       "0\n",
       "\\end{array}\\right)$"
      ],
      "text/plain": [
       "[0]\n",
       "[0]\n",
       "[0]\n",
       "[0]"
      ]
     },
     "execution_count": 28,
     "metadata": {},
     "output_type": "execute_result"
    }
   ],
   "source": [
    "A*X-B"
   ]
  },
  {
   "cell_type": "markdown",
   "metadata": {},
   "source": [
    "Otra forma de que resuelva es usando \"\\\". Se las dejo para que la exploren."
   ]
  },
  {
   "cell_type": "code",
   "execution_count": 30,
   "metadata": {},
   "outputs": [
    {
     "data": {
      "text/html": [
       "<html>\\(\\displaystyle \\left(\\begin{array}{r}\n",
       "\\frac{10}{29} \\\\\n",
       "\\frac{5}{29} \\\\\n",
       "\\frac{1}{29} \\\\\n",
       "\\frac{7}{29}\n",
       "\\end{array}\\right)\\)</html>"
      ],
      "text/latex": [
       "$\\displaystyle \\left(\\begin{array}{r}\n",
       "\\frac{10}{29} \\\\\n",
       "\\frac{5}{29} \\\\\n",
       "\\frac{1}{29} \\\\\n",
       "\\frac{7}{29}\n",
       "\\end{array}\\right)$"
      ],
      "text/plain": [
       "[10/29]\n",
       "[ 5/29]\n",
       "[ 1/29]\n",
       "[ 7/29]"
      ]
     },
     "execution_count": 30,
     "metadata": {},
     "output_type": "execute_result"
    }
   ],
   "source": [
    "A\\B"
   ]
  },
  {
   "cell_type": "markdown",
   "metadata": {},
   "source": [
    "En lo anterior, B que es el vector de términos independientes, lo escribimos como matriz. Pero SAGE también lo interpreta si b es un vector:   "
   ]
  },
  {
   "cell_type": "code",
   "execution_count": 31,
   "metadata": {},
   "outputs": [
    {
     "data": {
      "text/html": [
       "<html>\\(\\displaystyle \\left(1,\\,4,\\,0,\\,0\\right)\\)</html>"
      ],
      "text/latex": [
       "$\\displaystyle \\left(1,\\,4,\\,0,\\,0\\right)$"
      ],
      "text/plain": [
       "(1, 4, 0, 0)"
      ]
     },
     "execution_count": 31,
     "metadata": {},
     "output_type": "execute_result"
    }
   ],
   "source": [
    "b = vector([1,4,0, 0]); b"
   ]
  },
  {
   "cell_type": "code",
   "execution_count": 32,
   "metadata": {},
   "outputs": [
    {
     "data": {
      "text/html": [
       "<html>\\(\\displaystyle \\left(\\frac{10}{29},\\,\\frac{5}{29},\\,\\frac{1}{29},\\,\\frac{7}{29}\\right)\\)</html>"
      ],
      "text/latex": [
       "$\\displaystyle \\left(\\frac{10}{29},\\,\\frac{5}{29},\\,\\frac{1}{29},\\,\\frac{7}{29}\\right)$"
      ],
      "text/plain": [
       "(10/29, 5/29, 1/29, 7/29)"
      ]
     },
     "execution_count": 32,
     "metadata": {},
     "output_type": "execute_result"
    }
   ],
   "source": [
    "X = A.solve_right(b); X"
   ]
  },
  {
   "cell_type": "code",
   "execution_count": 33,
   "metadata": {},
   "outputs": [
    {
     "data": {
      "text/html": [
       "<html>\\(\\displaystyle \\left(0,\\,0,\\,0,\\,0\\right)\\)</html>"
      ],
      "text/latex": [
       "$\\displaystyle \\left(0,\\,0,\\,0,\\,0\\right)$"
      ],
      "text/plain": [
       "(0, 0, 0, 0)"
      ]
     },
     "execution_count": 33,
     "metadata": {},
     "output_type": "execute_result"
    }
   ],
   "source": [
    "A*X-b"
   ]
  },
  {
   "cell_type": "markdown",
   "metadata": {},
   "source": [
    "Y claramente interpreta tanto A*x como A*x-b como vectores."
   ]
  },
  {
   "cell_type": "markdown",
   "metadata": {},
   "source": [
    "En los casos anteriores existía solución. Veamos qué pasa si no existe:"
   ]
  },
  {
   "cell_type": "code",
   "execution_count": 34,
   "metadata": {},
   "outputs": [
    {
     "data": {
      "text/html": [
       "<html>\\(\\displaystyle \\left(\\begin{array}{rrr}\n",
       "1 & 4 & 6 \\\\\n",
       "3 & 6 & 0 \\\\\n",
       "0 & -3 & 8 \\\\\n",
       "1 & -2 & 0\n",
       "\\end{array}\\right)\\)</html>"
      ],
      "text/latex": [
       "$\\displaystyle \\left(\\begin{array}{rrr}\n",
       "1 & 4 & 6 \\\\\n",
       "3 & 6 & 0 \\\\\n",
       "0 & -3 & 8 \\\\\n",
       "1 & -2 & 0\n",
       "\\end{array}\\right)$"
      ],
      "text/plain": [
       "[ 1  4  6]\n",
       "[ 3  6  0]\n",
       "[ 0 -3  8]\n",
       "[ 1 -2  0]"
      ]
     },
     "execution_count": 34,
     "metadata": {},
     "output_type": "execute_result"
    }
   ],
   "source": [
    "A = matrix([[1,4,6],[3,6,0],[0,-3,8],[1,-2,0]]); A"
   ]
  },
  {
   "cell_type": "code",
   "execution_count": 35,
   "metadata": {},
   "outputs": [
    {
     "data": {
      "text/html": [
       "<html>\\(\\displaystyle \\left(\\begin{array}{r}\n",
       "1 \\\\\n",
       "4 \\\\\n",
       "0 \\\\\n",
       "0\n",
       "\\end{array}\\right)\\)</html>"
      ],
      "text/latex": [
       "$\\displaystyle \\left(\\begin{array}{r}\n",
       "1 \\\\\n",
       "4 \\\\\n",
       "0 \\\\\n",
       "0\n",
       "\\end{array}\\right)$"
      ],
      "text/plain": [
       "[1]\n",
       "[4]\n",
       "[0]\n",
       "[0]"
      ]
     },
     "execution_count": 35,
     "metadata": {},
     "output_type": "execute_result"
    }
   ],
   "source": [
    "B = matrix([[1],[4],[0],[0]]); B"
   ]
  },
  {
   "cell_type": "code",
   "execution_count": 36,
   "metadata": {
    "scrolled": true
   },
   "outputs": [
    {
     "ename": "ValueError",
     "evalue": "matrix equation has no solutions",
     "output_type": "error",
     "traceback": [
      "\u001b[0;31m---------------------------------------------------------------------------\u001b[0m",
      "\u001b[0;31mValueError\u001b[0m                                Traceback (most recent call last)",
      "Input \u001b[0;32mIn [36]\u001b[0m, in \u001b[0;36m<cell line: 1>\u001b[0;34m()\u001b[0m\n\u001b[0;32m----> 1\u001b[0m X \u001b[38;5;241m=\u001b[39m \u001b[43mA\u001b[49m\u001b[38;5;241;43m.\u001b[39;49m\u001b[43msolve_right\u001b[49m\u001b[43m(\u001b[49m\u001b[43mB\u001b[49m\u001b[43m)\u001b[49m; X\n",
      "File \u001b[0;32m/usr/lib/python3.10/site-packages/sage/matrix/matrix2.pyx:908\u001b[0m, in \u001b[0;36msage.matrix.matrix2.Matrix.solve_right (build/cythonized/sage/matrix/matrix2.c:9095)\u001b[0;34m()\u001b[0m\n\u001b[1;32m    906\u001b[0m \n\u001b[1;32m    907\u001b[0m         if not self.is_square():\n\u001b[0;32m--> 908\u001b[0m             X = self._solve_right_general(C, check=check)\n\u001b[1;32m    909\u001b[0m         else:\n\u001b[1;32m    910\u001b[0m             try:\n",
      "File \u001b[0;32m/usr/lib/python3.10/site-packages/sage/matrix/matrix2.pyx:1031\u001b[0m, in \u001b[0;36msage.matrix.matrix2.Matrix._solve_right_general (build/cythonized/sage/matrix/matrix2.c:10434)\u001b[0;34m()\u001b[0m\n\u001b[1;32m   1029\u001b[0m     # Have to check that we actually solved the equation.\n\u001b[1;32m   1030\u001b[0m     if self*X != B:\n\u001b[0;32m-> 1031\u001b[0m         raise ValueError(\"matrix equation has no solutions\")\n\u001b[1;32m   1032\u001b[0m return X\n\u001b[1;32m   1033\u001b[0m \n",
      "\u001b[0;31mValueError\u001b[0m: matrix equation has no solutions"
     ]
    }
   ],
   "source": [
    "X = A.solve_right(B); X"
   ]
  },
  {
   "cell_type": "markdown",
   "metadata": {},
   "source": [
    "Y veamos qué pasa en un caso con infinitas soluciones."
   ]
  },
  {
   "cell_type": "code",
   "execution_count": 37,
   "metadata": {},
   "outputs": [
    {
     "data": {
      "text/html": [
       "<html>\\(\\displaystyle \\left(\\begin{array}{rrrrr}\n",
       "1 & 4 & 6 & -1 & 6 \\\\\n",
       "3 & 6 & 0 & 8 & 1 \\\\\n",
       "0 & -3 & 8 & 1 & 0 \\\\\n",
       "1 & -2 & 0 & 0 & 1\n",
       "\\end{array}\\right)\\)</html>"
      ],
      "text/latex": [
       "$\\displaystyle \\left(\\begin{array}{rrrrr}\n",
       "1 & 4 & 6 & -1 & 6 \\\\\n",
       "3 & 6 & 0 & 8 & 1 \\\\\n",
       "0 & -3 & 8 & 1 & 0 \\\\\n",
       "1 & -2 & 0 & 0 & 1\n",
       "\\end{array}\\right)$"
      ],
      "text/plain": [
       "[ 1  4  6 -1  6]\n",
       "[ 3  6  0  8  1]\n",
       "[ 0 -3  8  1  0]\n",
       "[ 1 -2  0  0  1]"
      ]
     },
     "execution_count": 37,
     "metadata": {},
     "output_type": "execute_result"
    }
   ],
   "source": [
    "A = matrix([[1,4,6,-1,6],[3,6,0,8,1],[0,-3,8,1,0],[1,-2,0,0,1]]); A"
   ]
  },
  {
   "cell_type": "code",
   "execution_count": 38,
   "metadata": {},
   "outputs": [],
   "source": [
    "b = vector([0,0,0,0])"
   ]
  },
  {
   "cell_type": "code",
   "execution_count": 39,
   "metadata": {},
   "outputs": [
    {
     "data": {
      "text/html": [
       "<html>\\(\\displaystyle \\left(0,\\,0,\\,0,\\,0,\\,0\\right)\\)</html>"
      ],
      "text/latex": [
       "$\\displaystyle \\left(0,\\,0,\\,0,\\,0,\\,0\\right)$"
      ],
      "text/plain": [
       "(0, 0, 0, 0, 0)"
      ]
     },
     "execution_count": 39,
     "metadata": {},
     "output_type": "execute_result"
    }
   ],
   "source": [
    "X = A.solve_right(b); X"
   ]
  },
  {
   "cell_type": "code",
   "execution_count": 40,
   "metadata": {},
   "outputs": [
    {
     "data": {
      "text/html": [
       "<html>\\(\\displaystyle \\left(\\begin{array}{r}\n",
       "1 \\\\\n",
       "4 \\\\\n",
       "0 \\\\\n",
       "0\n",
       "\\end{array}\\right)\\)</html>"
      ],
      "text/latex": [
       "$\\displaystyle \\left(\\begin{array}{r}\n",
       "1 \\\\\n",
       "4 \\\\\n",
       "0 \\\\\n",
       "0\n",
       "\\end{array}\\right)$"
      ],
      "text/plain": [
       "[1]\n",
       "[4]\n",
       "[0]\n",
       "[0]"
      ]
     },
     "execution_count": 40,
     "metadata": {},
     "output_type": "execute_result"
    }
   ],
   "source": [
    "B = matrix([[1],[4],[0],[0]]); B"
   ]
  },
  {
   "cell_type": "code",
   "execution_count": 41,
   "metadata": {},
   "outputs": [
    {
     "data": {
      "text/html": [
       "<html>\\(\\displaystyle \\left(\\begin{array}{r}\n",
       "\\frac{10}{29} \\\\\n",
       "\\frac{5}{29} \\\\\n",
       "\\frac{1}{29} \\\\\n",
       "\\frac{7}{29} \\\\\n",
       "0\n",
       "\\end{array}\\right)\\)</html>"
      ],
      "text/latex": [
       "$\\displaystyle \\left(\\begin{array}{r}\n",
       "\\frac{10}{29} \\\\\n",
       "\\frac{5}{29} \\\\\n",
       "\\frac{1}{29} \\\\\n",
       "\\frac{7}{29} \\\\\n",
       "0\n",
       "\\end{array}\\right)$"
      ],
      "text/plain": [
       "[10/29]\n",
       "[ 5/29]\n",
       "[ 1/29]\n",
       "[ 7/29]\n",
       "[    0]"
      ]
     },
     "execution_count": 41,
     "metadata": {},
     "output_type": "execute_result"
    }
   ],
   "source": [
    "X = A.solve_right(B); X"
   ]
  },
  {
   "cell_type": "markdown",
   "metadata": {},
   "source": [
    "O sea, nos da una solución, pero NO resuelve completamente el sistema.\n",
    "Así que esta forma no es tan útil.\n",
    "Exploremos un toque más a ver si podemos hacer algo mejor. Voy a jugar un poquito."
   ]
  },
  {
   "cell_type": "code",
   "execution_count": 42,
   "metadata": {},
   "outputs": [
    {
     "data": {
      "text/html": [
       "<html>\\(\\displaystyle \\left(\\begin{array}{rrrrr}\n",
       "1 & 1 & 0 & 31 & -25 \\\\\n",
       "0 & 3 & 0 & 31 & -26 \\\\\n",
       "0 & 0 & 2 & 95 & -83 \\\\\n",
       "0 & 0 & 0 & 116 & -102\n",
       "\\end{array}\\right)\\)</html>"
      ],
      "text/latex": [
       "$\\displaystyle \\left(\\begin{array}{rrrrr}\n",
       "1 & 1 & 0 & 31 & -25 \\\\\n",
       "0 & 3 & 0 & 31 & -26 \\\\\n",
       "0 & 0 & 2 & 95 & -83 \\\\\n",
       "0 & 0 & 0 & 116 & -102\n",
       "\\end{array}\\right)$"
      ],
      "text/plain": [
       "[   1    1    0   31  -25]\n",
       "[   0    3    0   31  -26]\n",
       "[   0    0    2   95  -83]\n",
       "[   0    0    0  116 -102]"
      ]
     },
     "execution_count": 42,
     "metadata": {},
     "output_type": "execute_result"
    }
   ],
   "source": [
    "A.echelon_form()"
   ]
  },
  {
   "cell_type": "markdown",
   "metadata": {},
   "source": [
    "De aquí, podemos ver que hay infinitas soluciones, siendo A la matriz asociada al sistema (no la ampliada)."
   ]
  },
  {
   "cell_type": "markdown",
   "metadata": {},
   "source": [
    "Voy a ver si encuentro alguna forma linda de escribir cosas antes de ir a las matrices asociadas a las operaciones elementales por fila."
   ]
  },
  {
   "cell_type": "code",
   "execution_count": 43,
   "metadata": {},
   "outputs": [
    {
     "data": {
      "text/html": [
       "<html>\\(\\displaystyle \\left(\\begin{array}{rrr}\n",
       "2 & 0 & 1 \\\\\n",
       "\\frac{3}{2} & 0 & \\frac{3}{2}\n",
       "\\end{array}\\right)\\)</html>"
      ],
      "text/latex": [
       "$\\displaystyle \\left(\\begin{array}{rrr}\n",
       "2 & 0 & 1 \\\\\n",
       "\\frac{3}{2} & 0 & \\frac{3}{2}\n",
       "\\end{array}\\right)$"
      ],
      "text/plain": [
       "[  2   0   1]\n",
       "[3/2   0 3/2]"
      ]
     },
     "execution_count": 43,
     "metadata": {},
     "output_type": "execute_result"
    }
   ],
   "source": [
    "A=matrix([[2,0,1],[3/2,0,3/2]])\n",
    "A"
   ]
  },
  {
   "cell_type": "code",
   "execution_count": 44,
   "metadata": {},
   "outputs": [
    {
     "data": {
      "text/html": [
       "<html>\\(\\displaystyle \\left(x,\\,y,\\,z\\right)\\)</html>"
      ],
      "text/latex": [
       "$\\displaystyle \\left(x,\\,y,\\,z\\right)$"
      ],
      "text/plain": [
       "(x, y, z)"
      ]
     },
     "execution_count": 44,
     "metadata": {},
     "output_type": "execute_result"
    }
   ],
   "source": [
    "X=vector([x,y,z])\n",
    "X"
   ]
  },
  {
   "cell_type": "code",
   "execution_count": 45,
   "metadata": {},
   "outputs": [
    {
     "data": {
      "text/html": [
       "<html>\\(\\displaystyle \\left(2 \\, x + z,\\,\\frac{3}{2} \\, x + \\frac{3}{2} \\, z\\right)\\)</html>"
      ],
      "text/latex": [
       "$\\displaystyle \\left(2 \\, x + z,\\,\\frac{3}{2} \\, x + \\frac{3}{2} \\, z\\right)$"
      ],
      "text/plain": [
       "(2*x + z, 3/2*x + 3/2*z)"
      ]
     },
     "execution_count": 45,
     "metadata": {},
     "output_type": "execute_result"
    }
   ],
   "source": [
    "A*X"
   ]
  },
  {
   "cell_type": "code",
   "execution_count": 46,
   "metadata": {},
   "outputs": [
    {
     "data": {
      "text/html": [
       "<html>\\(\\displaystyle \\left(1,\\,0\\right)\\)</html>"
      ],
      "text/latex": [
       "$\\displaystyle \\left(1,\\,0\\right)$"
      ],
      "text/plain": [
       "(1, 0)"
      ]
     },
     "execution_count": 46,
     "metadata": {},
     "output_type": "execute_result"
    }
   ],
   "source": [
    "b=vector([1,0]); b"
   ]
  },
  {
   "cell_type": "code",
   "execution_count": 47,
   "metadata": {},
   "outputs": [
    {
     "data": {
      "text/html": [
       "<html>\\(\\displaystyle \\left(1,\\,0,\\,-1\\right)\\)</html>"
      ],
      "text/latex": [
       "$\\displaystyle \\left(1,\\,0,\\,-1\\right)$"
      ],
      "text/plain": [
       "(1, 0, -1)"
      ]
     },
     "execution_count": 47,
     "metadata": {},
     "output_type": "execute_result"
    }
   ],
   "source": [
    "X0 = A.solve_right(b); X0"
   ]
  },
  {
   "cell_type": "code",
   "execution_count": 48,
   "metadata": {},
   "outputs": [
    {
     "data": {
      "text/html": [
       "<html>\\(\\displaystyle \\mathrm{True}\\)</html>"
      ],
      "text/latex": [
       "$\\displaystyle \\mathrm{True}$"
      ],
      "text/plain": [
       "True"
      ]
     },
     "execution_count": 48,
     "metadata": {},
     "output_type": "execute_result"
    }
   ],
   "source": [
    "A*X0 == b"
   ]
  },
  {
   "cell_type": "markdown",
   "metadata": {},
   "source": [
    "Bueno, nada muy bueno, capaz esto último sirve para chequear si algo es solución.\n",
    "\n",
    "Vamos a ver ahora el tema de las matrices elementales. RECORDAR que los índices de las filas y las columnas EMPIEZAN DESDE 0."
   ]
  },
  {
   "cell_type": "markdown",
   "metadata": {},
   "source": [
    "Ya estamos listxs para partir de una matriz (ampliada) asociada a un sistema de ecuaciones lineales y efectuar todos los cálculos necesarios para llevarla a su forma de escalón reducida. Yo dejo por acá, creo que con todas estas herramientas ya pueden seguir investigando. Suerte!!"
   ]
  },
  {
   "cell_type": "markdown",
   "metadata": {},
   "source": [
    "\n",
    "---\n",
    "-- \n",
    "Estas notebooks fueron confeccionadas para la asignatura Álgebra y Geometría Analítica II correspondiente al primer año de todas las carreras de la Escuela de Cs. Exactas y Naturales de la Facultad de Cs. Exactas, Ingeniería y Agrimensura. \n",
    "\n",
    "Las docentes responsables somos Isolda E. Cardoso (isolda@fceia.unr.edu.ar) y Paola Tolomei. Al año 2022 hemos recorrido un largo camino dictando esta asignatura, y entre otras cosas hemos ido perfeccionando los laboratorios. Quedarán permanentemente, junto con una compilación de notas del curso, en el repositorio https://github.com/IsoldaEugenia/AyGAII-2022\n",
    "\n",
    "En caso de reproducirlas, se solicita citar la fuente.\n",
    "\n",
    "---\n"
   ]
  },
  {
   "cell_type": "code",
   "execution_count": null,
   "metadata": {},
   "outputs": [],
   "source": []
  }
 ],
 "metadata": {
  "kernelspec": {
   "display_name": "SageMath 9.5",
   "language": "sage",
   "name": "sagemath"
  },
  "language_info": {
   "codemirror_mode": {
    "name": "ipython",
    "version": 3
   },
   "file_extension": ".py",
   "mimetype": "text/x-python",
   "name": "python",
   "nbconvert_exporter": "python",
   "pygments_lexer": "ipython3",
   "version": "3.10.6"
  }
 },
 "nbformat": 4,
 "nbformat_minor": 2
}
