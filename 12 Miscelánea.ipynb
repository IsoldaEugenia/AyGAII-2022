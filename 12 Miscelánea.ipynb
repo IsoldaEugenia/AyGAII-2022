{
 "cells": [
  {
   "cell_type": "code",
   "execution_count": null,
   "metadata": {},
   "outputs": [],
   "source": [
    "%display latex"
   ]
  },
  {
   "cell_type": "code",
   "execution_count": null,
   "metadata": {},
   "outputs": [],
   "source": [
    "x,y,z = var('x,y,z')"
   ]
  },
  {
   "cell_type": "markdown",
   "metadata": {},
   "source": [
    "# 12.5 Miscelánea"
   ]
  },
  {
   "cell_type": "markdown",
   "metadata": {},
   "source": [
    "Una gota de agua:"
   ]
  },
  {
   "cell_type": "code",
   "execution_count": null,
   "metadata": {
    "scrolled": true
   },
   "outputs": [],
   "source": [
    "spherical_plot3d(e^-y,(x,0,2*pi),(y,0,pi),opacity=0.5).show(frame=False)"
   ]
  },
  {
   "cell_type": "markdown",
   "metadata": {},
   "source": [
    "Gomita del pelo:"
   ]
  },
  {
   "cell_type": "code",
   "execution_count": null,
   "metadata": {},
   "outputs": [],
   "source": [
    "u, v = var('u,v')\n",
    "f_x = (3+sin(v)+cos(u)) * cos(2*v)\n",
    "f_y = (3+sin(v)+cos(u)) * sin(2*v)\n",
    "f_z = sin(u) + 2*cos(v)\n",
    "parametric_plot3d([f_x, f_y, f_z], (u,0,2*pi), (v,0,2*pi), frame=False, color=\"hotpink\")"
   ]
  },
  {
   "cell_type": "markdown",
   "metadata": {},
   "source": [
    "Mi hija volcó la chocolatada:"
   ]
  },
  {
   "cell_type": "code",
   "execution_count": null,
   "metadata": {},
   "outputs": [],
   "source": [
    "F = x^2 + y^2 + z^2 + sin(4*x) + sin(4*y) + sin(4*z) - 1\n",
    "sage: implicit_plot3d(F, (x,-2,2), (y,-2,2), (z,-2,2), color='saddlebrown')"
   ]
  },
  {
   "cell_type": "markdown",
   "metadata": {},
   "source": [
    "Un yo-yo:"
   ]
  },
  {
   "cell_type": "code",
   "execution_count": null,
   "metadata": {},
   "outputs": [],
   "source": [
    "x, y, z = var('x,y,z')\n",
    "t = (x).function(x,y,z)\n",
    "cm = colormaps.PiYG\n",
    "G = implicit_plot3d(x^4 + y^2 + z^2, (x,-2,2),(y,-2,2),(z,-2,2), contour=4, color=(t,cm), plot_points=40)\n",
    "G"
   ]
  },
  {
   "cell_type": "markdown",
   "metadata": {},
   "source": [
    "Adorno para el arbolito:"
   ]
  },
  {
   "cell_type": "code",
   "execution_count": null,
   "metadata": {},
   "outputs": [],
   "source": [
    "t = (sin(3*z)**2).function(x,y,z)\n",
    "cm = colormaps.gist_rainbow\n",
    "G = implicit_plot3d(x^2 + y^2 + z^2, (x,-2,2), (y,-2,2), (z,-2, 2), contour=4, color=(t,cm), plot_points=100)\n",
    "G.show(viewer='tachyon')"
   ]
  },
  {
   "cell_type": "code",
   "execution_count": null,
   "metadata": {},
   "outputs": [],
   "source": [
    "show(G)"
   ]
  },
  {
   "cell_type": "markdown",
   "metadata": {},
   "source": [
    "Botella de Klein:"
   ]
  },
  {
   "cell_type": "code",
   "execution_count": null,
   "metadata": {},
   "outputs": [],
   "source": [
    "u, v = var('u,v')\n",
    "f_x = (3*(1+sin(v)) + 2*(1-cos(v)/2)*cos(u)) * cos(v)\n",
    "f_y = (4+2*(1-cos(v)/2)*cos(u)) * sin(v)\n",
    "f_z = -2 * (1-cos(v)/2) * sin(u)\n",
    "parametric_plot3d([f_x, f_y, f_z], (u,0,2*pi), (v,0,2*pi), frame=False, color=\"lavenderblush\")"
   ]
  },
  {
   "cell_type": "markdown",
   "metadata": {},
   "source": [
    "Cinta de Möbius:"
   ]
  },
  {
   "cell_type": "code",
   "execution_count": null,
   "metadata": {},
   "outputs": [],
   "source": [
    "u,v = var(\"u,v\")\n",
    "parametric_plot3d([cos(u)*(1+v*cos(u/2)), sin(u)*(1+v*cos(u/2)), 0.2*v*sin(u/2)], (u,0, 4*pi+0.5), (v,0, 0.3), plot_points=[50,50])"
   ]
  },
  {
   "cell_type": "markdown",
   "metadata": {},
   "source": [
    "Hiperelicoide:"
   ]
  },
  {
   "cell_type": "code",
   "execution_count": null,
   "metadata": {},
   "outputs": [],
   "source": [
    "u = var(\"u\")\n",
    "v = var(\"v\")\n",
    "f_x = (sinh(v)*cos(3*u)) / (1+cosh(u)*cosh(v))\n",
    "f_y = (sinh(v)*sin(3*u)) / (1+cosh(u)*cosh(v))\n",
    "f_z = (cosh(v)*sinh(u)) / (1+cosh(u)*cosh(v))\n",
    "parametric_plot3d([f_x, f_y, f_z], (u,-pi,pi), (v,-pi,pi), plot_points=[50,50], frame=False, color=\"salmon\")"
   ]
  },
  {
   "cell_type": "markdown",
   "metadata": {},
   "source": [
    "Breather surface: \n",
    "De la wiki --\n",
    "In physics, a breather is a nonlinear wave in which energy concentrates in a localized and oscillatory fashion. This contradicts with the expectations derived from the corresponding linear system for infinitesimal amplitudes, which tends towards an even distribution of initially localized energy. "
   ]
  },
  {
   "cell_type": "code",
   "execution_count": null,
   "metadata": {},
   "outputs": [],
   "source": [
    "K = sqrt(0.84)\n",
    "G = (0.4*((K*cosh(0.4*u))^2 + (0.4*sin(K*v))^2))\n",
    "f_x = (2*K*cosh(0.4*u)*(-(K*cos(v)*cos(K*v)) - sin(v)*sin(K*v)))/G\n",
    "f_y = (2*K*cosh(0.4*u)*(-(K*sin(v)*cos(K*v)) + cos(v)*sin(K*v)))/G\n",
    "f_z = -u + (2*0.84*cosh(0.4*u)*sinh(0.4*u))/G\n",
    "parametric_plot3d([f_x, f_y, f_z], (u,-13.2,13.2), (v,-37.4,37.4), plot_points=[90,90], frame=False, color=\"beige\")"
   ]
  },
  {
   "cell_type": "markdown",
   "metadata": {},
   "source": [
    "\n"
   ]
  },
  {
   "cell_type": "markdown",
   "metadata": {},
   "source": [
    "Un trompito más sencillo:"
   ]
  },
  {
   "cell_type": "code",
   "execution_count": null,
   "metadata": {},
   "outputs": [],
   "source": [
    "T = implicit_plot3d((sqrt(x*x+y*y)-3)^3 + z*z - 1, (x,-4,4), (y,-4,4), (z,-6,6), color='mistyrose')\n",
    "show(T)"
   ]
  },
  {
   "cell_type": "markdown",
   "metadata": {},
   "source": [
    "Un cubo:"
   ]
  },
  {
   "cell_type": "code",
   "execution_count": null,
   "metadata": {},
   "outputs": [],
   "source": [
    "E = implicit_plot3d(x^100 + y^100 + z^100 - 1, (x,-2,2), (y,-2,2), (z,-2,2), color='peachpuff')\n",
    "show(E)"
   ]
  },
  {
   "cell_type": "markdown",
   "metadata": {},
   "source": [
    "Un Octahedro:"
   ]
  },
  {
   "cell_type": "code",
   "execution_count": null,
   "metadata": {},
   "outputs": [],
   "source": [
    "O = implicit_plot3d(abs(x) + abs(y) + abs(z) - 1, (x,-1,1), (y,-1,1), (z,-1,1), color='darkviolet')\n",
    "show(O)"
   ]
  },
  {
   "cell_type": "markdown",
   "metadata": {},
   "source": [
    "Los sólidos platónicos.\n",
    "*De la wiki: Platonic solid, any of the five geometric solids whose faces are all identical, regular polygons meeting at the same three-dimensional angles. Also known as the five regular polyhedra, they consist of the tetrahedron (or pyramid), cube, octahedron, dodecahedron, and icosahedron.*"
   ]
  },
  {
   "cell_type": "code",
   "execution_count": null,
   "metadata": {},
   "outputs": [],
   "source": [
    "G = tetrahedron((0,-3.5,0), color='blue') + cube((0,-2,0),color=(.25,0,.5))\n",
    "G += octahedron(color='red') + dodecahedron((0,2,0), color='orange')\n",
    "G += icosahedron(center=(0,4,0), color='yellow')\n",
    "G.show(aspect_ratio=[1,1,1])"
   ]
  },
  {
   "cell_type": "markdown",
   "metadata": {},
   "source": [
    "Un Covid:"
   ]
  },
  {
   "cell_type": "code",
   "execution_count": null,
   "metadata": {
    "scrolled": true
   },
   "outputs": [],
   "source": [
    "A = implicit_plot3d(-(cos(x) + cos(y) + cos(z)), (x,-4,4), (y,-4,4), (z,-4,4), color='green')\n",
    "Bola = implicit_plot3d( x^2+y^2+z^2 == 9, (x,-4,4), (y,-4,4), (z,-4,4), color='green')\n",
    "show(A+Bola)"
   ]
  },
  {
   "cell_type": "markdown",
   "metadata": {},
   "source": [
    "Un muñequito con esferas y conos."
   ]
  },
  {
   "cell_type": "code",
   "execution_count": null,
   "metadata": {},
   "outputs": [],
   "source": [
    "from sage.plot.plot3d.shapes import *\n",
    "S = Sphere(.5, color='yellow')\n",
    "S += Cone(.5, .5, color='red').translate(0,0,.3)\n",
    "S += Sphere(.1, color='white').translate(.45,-.1,.15) + Sphere(.05, color='black').translate(.51,-.1,.17)\n",
    "S += Sphere(.1, color='white').translate(.45, .1,.15) + Sphere(.05, color='black').translate(.51, .1,.17)\n",
    "S += Sphere(.1, color='yellow').translate(.5, 0, -.2)\n",
    "S.show()\n",
    "S.scale(1,1,2).show()"
   ]
  },
  {
   "cell_type": "markdown",
   "metadata": {},
   "source": [
    "Que tengan una feliz navidad!"
   ]
  },
  {
   "cell_type": "code",
   "execution_count": null,
   "metadata": {},
   "outputs": [],
   "source": [
    "from sage.plot.plot3d.shapes import Cone\n",
    "T = sum(Cone(exp(-n/5), 4/3*exp(-n/5), color=(0, .5, 0)).translate(0, 0, -3*exp(-n/5)) for n in [1..7])\n",
    "T += Cone(1/8, 1, color='brown').translate(0, 0, -3)\n",
    "T.show(aspect_ratio=1, frame=False)"
   ]
  },
  {
   "cell_type": "markdown",
   "metadata": {},
   "source": [
    "Y mucho amor para ustedes!"
   ]
  },
  {
   "cell_type": "code",
   "execution_count": null,
   "metadata": {},
   "outputs": [],
   "source": [
    "F = (x^2+9/4*y^2+z^2-1)^3 - x^2*z^3 - 9/(80)*y^2*z^3\n",
    "r = 1.5\n",
    "C = implicit_plot3d(F, (x,-r,r), (y,-r,r), (z,-r,r), plot_points=80, color='orangered', smooth=False, frame=False)\n",
    "show(C)"
   ]
  },
  {
   "cell_type": "markdown",
   "metadata": {},
   "source": [
    "-- Estas notebooks fueron confeccionadas para la asignatura Álgebra y Geometría Analítica II correspondiente al primer año de todas las carreras de la Escuela de Cs. Exactas y Naturales de la Facultad de Cs. Exactas, Ingeniería y Agrimensura.\n",
    "\n",
    "Las docentes responsables somos Isolda E. Cardoso (isolda@fceia.unr.edu.ar) y Paola Tolomei. Al año 2022 hemos recorrido un largo camino dictando esta asignatura, y entre otras cosas hemos ido perfeccionando los laboratorios. Quedarán permanentemente, junto con una compilación de notas del curso, en el repositorio https://github.com/IsoldaEugenia/AyGAII-2022\n",
    "\n",
    "En caso de reproducirlas, se solicita citar la fuente.\n"
   ]
  },
  {
   "cell_type": "code",
   "execution_count": null,
   "metadata": {},
   "outputs": [],
   "source": []
  }
 ],
 "metadata": {
  "kernelspec": {
   "display_name": "SageMath 9.3",
   "language": "sage",
   "name": "sagemath"
  },
  "language_info": {
   "codemirror_mode": {
    "name": "ipython",
    "version": 3
   },
   "file_extension": ".py",
   "mimetype": "text/x-python",
   "name": "python",
   "nbconvert_exporter": "python",
   "pygments_lexer": "ipython3",
   "version": "3.7.10"
  }
 },
 "nbformat": 4,
 "nbformat_minor": 2
}
