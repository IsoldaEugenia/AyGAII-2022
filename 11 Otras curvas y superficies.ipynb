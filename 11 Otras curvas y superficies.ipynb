{
 "cells": [
  {
   "cell_type": "code",
   "execution_count": null,
   "metadata": {},
   "outputs": [],
   "source": [
    "%display latex"
   ]
  },
  {
   "cell_type": "markdown",
   "metadata": {},
   "source": [
    "# 12 Otras curvas y superficies en el espacio\n",
    "\n",
    "Hemos utilizado el comando implicit_plot para que SAGE dibuje superficies dadas en forma implícita (o \"cartesiana\"). Exploraremos cómo dibujar superficies o curvas dadas con otro tipo de ecuaciones, como por ejemplo paramétricas."
   ]
  },
  {
   "cell_type": "markdown",
   "metadata": {},
   "source": [
    "## 12.1 Veamos el ejemplo 3 del apunte:\n",
    "$$\\left\\{ \\begin{array}{l} x^2+y^2 =1 \\\\ z= x^2 \\end{array} \\right.$$\n",
    "Parametricemos esta curva (o al menos el alguna parte de la misma): $(t,\\sqrt{1-t^2},t^2), t\\in\\mathbb{R}$ y $(t,-\\sqrt{1-t^2},t^2), t\\in\\mathbb{R}$ ."
   ]
  },
  {
   "cell_type": "code",
   "execution_count": null,
   "metadata": {},
   "outputs": [],
   "source": [
    "var('x,y,z')"
   ]
  },
  {
   "cell_type": "code",
   "execution_count": null,
   "metadata": {},
   "outputs": [],
   "source": [
    "var('t,u')"
   ]
  },
  {
   "cell_type": "code",
   "execution_count": null,
   "metadata": {},
   "outputs": [],
   "source": [
    "planoxy= z\n",
    "planoxz= y\n",
    "planoyz= x\n",
    "GrafPlxy = implicit_plot3d(planoxy,(x,-5,5),(y,-5,5),(z,-5,5),color='blue',opacity=.125, axes=True, frame=False)\n",
    "GrafPlxz = implicit_plot3d(planoxz,(x,-5,5),(y,-5,5),(z,-5,5),color='green',opacity=.125, axes=True, frame=False)\n",
    "GrafPlyz = implicit_plot3d(planoyz,(x,-5,5),(y,-5,5),(z,-5,5),color='red',opacity=.125, axes=True, frame=False)\n",
    "PlsCoords = GrafPlxy + GrafPlxz + GrafPlyz"
   ]
  },
  {
   "cell_type": "code",
   "execution_count": null,
   "metadata": {},
   "outputs": [],
   "source": [
    "Cur3 =  parametric_plot3d((t, sqrt(1-t^2), t^2), (t,-3,3), axis=True, frame=False) + parametric_plot3d((t, -sqrt(1-t^2), t^2), (t,-3,3), axis=True, frame=False)"
   ]
  },
  {
   "cell_type": "code",
   "execution_count": null,
   "metadata": {},
   "outputs": [],
   "source": [
    "show(Cur3)"
   ]
  },
  {
   "cell_type": "markdown",
   "metadata": {},
   "source": [
    "# 12.2 Hélice\n",
    "\n",
    "Dibujemos ahora la hélice elíptica dada por las ecuaciones paramétricas\n",
    "$$\\left\\{ \\begin{array}{lr} x(t)=2*sin(t)+1, & \\\\ y(t) = 3*cos(t)-2, & t\\in\\mathbb{R} \\\\ z(t)=t/5. & \\end{array} \\right.$$"
   ]
  },
  {
   "cell_type": "code",
   "execution_count": null,
   "metadata": {},
   "outputs": [],
   "source": [
    "Hel = parametric_plot3d((2*sin(t)+1, 3*cos(t)-2, t/5), (t,-4*pi,4*pi))"
   ]
  },
  {
   "cell_type": "code",
   "execution_count": null,
   "metadata": {},
   "outputs": [],
   "source": [
    "show(Hel + PlsCoords)"
   ]
  },
  {
   "cell_type": "markdown",
   "metadata": {},
   "source": [
    "# 12.3 Ejemplo 7 del apunte\n",
    "\n",
    "La curva de ecuaciones paramétricas\n",
    "\n",
    "$$\\left\\{ \\begin{array}{lr} x(t)=cos(t), & \\\\ y(t) = sin(t), & t\\in\\mathbb{R} \\\\ z(t) = sin(t) . & \\end{array} \\right.$$"
   ]
  },
  {
   "cell_type": "code",
   "execution_count": null,
   "metadata": {},
   "outputs": [],
   "source": [
    "Cur7 = parametric_plot3d((cos(t), sin(t), sin(t)), (t,0,2*pi))"
   ]
  },
  {
   "cell_type": "code",
   "execution_count": null,
   "metadata": {
    "scrolled": true
   },
   "outputs": [],
   "source": [
    "show(Cur7 + PlsCoords)"
   ]
  },
  {
   "cell_type": "markdown",
   "metadata": {},
   "source": [
    "# 12.4 Cilindros y superficies de revolución\n",
    "\n",
    "En el apunte estudiamos las ecuaciones paramétricas de un cilindro circular recto, por ejemplo el siguiente:\n",
    "    $$\\left\\{\\begin{array}{l}\n",
    "    x=2\\cos t\\\\\n",
    "    y=2\\sin t\\\\\n",
    "    z=u\n",
    "    \\end{array}\\right.,\\ \\ u\\in \\mathbb{R},\\ t\\in[0,2\\pi).$$\n",
    "    Grafiquemos"
   ]
  },
  {
   "cell_type": "code",
   "execution_count": null,
   "metadata": {},
   "outputs": [],
   "source": [
    "CilCircRec = parametric_plot3d((2*cos(t), 2*sin(t), u), (t,0,2*pi), (u,-3,3), color='crimson')"
   ]
  },
  {
   "cell_type": "code",
   "execution_count": null,
   "metadata": {
    "scrolled": true
   },
   "outputs": [],
   "source": [
    "show(CilCircRec + PlsCoords)"
   ]
  },
  {
   "cell_type": "markdown",
   "metadata": {},
   "source": [
    "En general, de acuerdo a cómo gira una curva sobre una directriz, tenemos una descripción paramétrica de las superficies de revolución. \n",
    "\n",
    "El siguiente ejemplo es conocido:\n",
    "$$ \\left\\{\\begin{array}{l}\n",
    "x=(1+2\\cos u)\\cos t\\\\\n",
    "y=(1+2\\cos u)\\sin t\\\\\n",
    "z=2\\sin u\n",
    "\\end{array}\\right.,\\ t\\in [0,2\\pi),\\ \\theta\\in[0,2\\pi)  $$"
   ]
  },
  {
   "cell_type": "code",
   "execution_count": null,
   "metadata": {},
   "outputs": [],
   "source": [
    "Toro = parametric_plot3d(( (4+2*cos(u))*cos(t), (4+2*cos(u))*sin(t), 2*sin(u)), (t,0,2*pi), (u,0,2*pi), color='orange')"
   ]
  },
  {
   "cell_type": "code",
   "execution_count": null,
   "metadata": {},
   "outputs": [],
   "source": [
    "show(Toro + PlsCoords)"
   ]
  },
  {
   "cell_type": "markdown",
   "metadata": {},
   "source": [
    "-- Estas notebooks fueron confeccionadas para la asignatura Álgebra y Geometría Analítica II correspondiente al primer año de todas las carreras de la Escuela de Cs. Exactas y Naturales de la Facultad de Cs. Exactas, Ingeniería y Agrimensura.\n",
    "\n",
    "Las docentes responsables somos Isolda E. Cardoso (isolda@fceia.unr.edu.ar) y Paola Tolomei. Al año 2022 hemos recorrido un largo camino dictando esta asignatura, y entre otras cosas hemos ido perfeccionando los laboratorios. Quedarán permanentemente, junto con una compilación de notas del curso, en el repositorio https://github.com/IsoldaEugenia/AyGAII-2022\n",
    "\n",
    "En caso de reproducirlas, se solicita citar la fuente.\n"
   ]
  },
  {
   "cell_type": "code",
   "execution_count": null,
   "metadata": {},
   "outputs": [],
   "source": []
  }
 ],
 "metadata": {
  "kernelspec": {
   "display_name": "SageMath 9.3",
   "language": "sage",
   "name": "sagemath"
  },
  "language_info": {
   "codemirror_mode": {
    "name": "ipython",
    "version": 3
   },
   "file_extension": ".py",
   "mimetype": "text/x-python",
   "name": "python",
   "nbconvert_exporter": "python",
   "pygments_lexer": "ipython3",
   "version": "3.7.10"
  }
 },
 "nbformat": 4,
 "nbformat_minor": 2
}
