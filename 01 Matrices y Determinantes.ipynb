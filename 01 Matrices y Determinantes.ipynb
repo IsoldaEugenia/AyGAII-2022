{
 "cells": [
  {
   "cell_type": "markdown",
   "metadata": {},
   "source": [
    "# 3. Matrices y determinantes"
   ]
  },
  {
   "cell_type": "markdown",
   "metadata": {},
   "source": [
    "Veamos cómo ingresar matrices y vectores.\n",
    "\n",
    "OJO que para Sage, éstas cosas son objetos diferentes, no interpreta un vector como una matriz $m\\times 1$ o $1\\times n$.\n",
    "\n",
    "Hay varias formas de ingresar matrices. En general, usamos el comando matrix que interpreta una matriz como una lista de listas. Las listas son sucesiones finitas de objetos encerrados entre corchetes y separados por comas.\n",
    "\n",
    "Para quienes estén versados: son como las listas de Python (en el sentido de su sintaxis y los métodos que existen, en general son como listas en cualquier lenguaje). Si no se nada de ningún lenguaje de programación: no pasa nada, usá los corchetes y fijate más o menos cómo armamos las cosas."
   ]
  },
  {
   "cell_type": "code",
   "execution_count": 3,
   "metadata": {},
   "outputs": [],
   "source": [
    "A = matrix([[1,2,3],[3,2,1],[1,1,1]])"
   ]
  },
  {
   "cell_type": "code",
   "execution_count": 4,
   "metadata": {},
   "outputs": [
    {
     "data": {
      "text/plain": [
       "[1 2 3]\n",
       "[3 2 1]\n",
       "[1 1 1]"
      ]
     },
     "execution_count": 4,
     "metadata": {},
     "output_type": "execute_result"
    }
   ],
   "source": [
    "A"
   ]
  },
  {
   "cell_type": "markdown",
   "metadata": {},
   "source": [
    "El output de la celda anterior es la matriz $A = \\left( \\begin{array}{ccc} 1 & 2 & 3 \\\\ 3 & 2 & 1 \\\\ 1 & 1 & 1 \\end{array} \\right)$, que no se ve muy bella, verdad?\n",
    "\n",
    "Si ponés en verde esta celda, ves que donde estaba la bonita matriz A ahora aparece algo de código entre símbolos \"$\". Este código significa que lo que está allí lo tiene que interpretar en LaTex, que seguro han escuchado hablar pero si no brevemente les cuento que es el código para escribir matemática y que lo muestre agradable a la vista. Van a ir aprendiendo a lo largo de las carreras a usarlo, por ahora no nos preocupemos.\n",
    "\n",
    "En la siguiente celda aparece el comando \"display\" precedido del símbolo porciento (que apareció en la notebook anterior cuando vimos cómo divide sage). En este caso, indica lo que se conoce como \"comando mágico\" y seguramente  no aparecerá nunca más, pero bueno, su sintaxis es así."
   ]
  },
  {
   "cell_type": "code",
   "execution_count": 10,
   "metadata": {},
   "outputs": [],
   "source": [
    "%display latex"
   ]
  },
  {
   "cell_type": "code",
   "execution_count": 11,
   "metadata": {},
   "outputs": [
    {
     "data": {
      "text/html": [
       "<html>\\(\\displaystyle \\left(\\begin{array}{rrr}\n",
       "1 & 2 & 3 \\\\\n",
       "3 & 2 & 1 \\\\\n",
       "1 & 1 & 1\n",
       "\\end{array}\\right)\\)</html>"
      ],
      "text/latex": [
       "$\\displaystyle \\left(\\begin{array}{rrr}\n",
       "1 & 2 & 3 \\\\\n",
       "3 & 2 & 1 \\\\\n",
       "1 & 1 & 1\n",
       "\\end{array}\\right)$"
      ],
      "text/plain": [
       "[1 2 3]\n",
       "[3 2 1]\n",
       "[1 1 1]"
      ]
     },
     "execution_count": 11,
     "metadata": {},
     "output_type": "execute_result"
    }
   ],
   "source": [
    "A"
   ]
  },
  {
   "cell_type": "markdown",
   "metadata": {},
   "source": [
    "Ahora sí se ve bien, porque muestra el output en latex. Ya que estamos, y por si les sirve, he aquí algo que puede ser de gran utilidad: para obtener el código latex de la cuenta que necesitemos podemos hacer lo siguiente:"
   ]
  },
  {
   "cell_type": "code",
   "execution_count": 12,
   "metadata": {},
   "outputs": [
    {
     "name": "stdout",
     "output_type": "stream",
     "text": [
      "\\left(\\begin{array}{rrr}\n",
      "1 & 2 & 3 \\\\\n",
      "3 & 2 & 1 \\\\\n",
      "1 & 1 & 1\n",
      "\\end{array}\\right)\n"
     ]
    }
   ],
   "source": [
    "print(latex(A))"
   ]
  },
  {
   "cell_type": "markdown",
   "metadata": {},
   "source": [
    "Lo que hizo fue escribir el codigo en latex, así yo lo copio y pego cuando escribo, y no tengo que andar redactándolo de memoria.\n",
    "\n",
    "De nuevo, si por ahora latex es demasiado, lo dejamos. Sólo sepamos que si lo necesitamos, lo tenemos."
   ]
  },
  {
   "cell_type": "code",
   "execution_count": 13,
   "metadata": {},
   "outputs": [],
   "source": [
    "M=matrix([[2,4,0,8],[-1,3,3,-2],[0,1,1,0]])"
   ]
  },
  {
   "cell_type": "markdown",
   "metadata": {},
   "source": [
    "Ingresemos un vector."
   ]
  },
  {
   "cell_type": "code",
   "execution_count": 14,
   "metadata": {},
   "outputs": [],
   "source": [
    "w = vector([1,1,4])"
   ]
  },
  {
   "cell_type": "code",
   "execution_count": 15,
   "metadata": {},
   "outputs": [
    {
     "data": {
      "text/html": [
       "<html>\\(\\displaystyle \\left(1,\\,1,\\,4\\right)\\)</html>"
      ],
      "text/latex": [
       "$\\displaystyle \\left(1,\\,1,\\,4\\right)$"
      ],
      "text/plain": [
       "(1, 1, 4)"
      ]
     },
     "execution_count": 15,
     "metadata": {},
     "output_type": "execute_result"
    }
   ],
   "source": [
    "w"
   ]
  },
  {
   "cell_type": "code",
   "execution_count": 16,
   "metadata": {},
   "outputs": [],
   "source": [
    "v = Matrix([1,1,4])"
   ]
  },
  {
   "cell_type": "code",
   "execution_count": 17,
   "metadata": {},
   "outputs": [
    {
     "data": {
      "text/html": [
       "<html>\\(\\displaystyle \\left(\\begin{array}{rrr}\n",
       "1 & 1 & 4\n",
       "\\end{array}\\right)\\)</html>"
      ],
      "text/latex": [
       "$\\displaystyle \\left(\\begin{array}{rrr}\n",
       "1 & 1 & 4\n",
       "\\end{array}\\right)$"
      ],
      "text/plain": [
       "[1 1 4]"
      ]
     },
     "execution_count": 17,
     "metadata": {},
     "output_type": "execute_result"
    }
   ],
   "source": [
    "v"
   ]
  },
  {
   "cell_type": "markdown",
   "metadata": {},
   "source": [
    "Veamos qué piensa sage sobre v y w."
   ]
  },
  {
   "cell_type": "code",
   "execution_count": 20,
   "metadata": {},
   "outputs": [
    {
     "data": {
      "text/html": [
       "<html>\\(\\displaystyle \\mathrm{False}\\)</html>"
      ],
      "text/latex": [
       "$\\displaystyle \\mathrm{False}$"
      ],
      "text/plain": [
       "False"
      ]
     },
     "execution_count": 20,
     "metadata": {},
     "output_type": "execute_result"
    }
   ],
   "source": [
    "w == v"
   ]
  },
  {
   "cell_type": "markdown",
   "metadata": {},
   "source": [
    "Veamos una forma más general del comando matrix para poder entender todas las opciones:"
   ]
  },
  {
   "cell_type": "code",
   "execution_count": 21,
   "metadata": {},
   "outputs": [],
   "source": [
    "B = matrix(RR, 2, 3, [4, 3, -1,2,5,6])"
   ]
  },
  {
   "cell_type": "code",
   "execution_count": 22,
   "metadata": {},
   "outputs": [
    {
     "data": {
      "text/html": [
       "<html>\\(\\displaystyle \\left(\\begin{array}{rrr}\n",
       "4.00000000000000 & 3.00000000000000 & -1.00000000000000 \\\\\n",
       "2.00000000000000 & 5.00000000000000 & 6.00000000000000\n",
       "\\end{array}\\right)\\)</html>"
      ],
      "text/latex": [
       "$\\displaystyle \\left(\\begin{array}{rrr}\n",
       "4.00000000000000 & 3.00000000000000 & -1.00000000000000 \\\\\n",
       "2.00000000000000 & 5.00000000000000 & 6.00000000000000\n",
       "\\end{array}\\right)$"
      ],
      "text/plain": [
       "[ 4.00000000000000  3.00000000000000 -1.00000000000000]\n",
       "[ 2.00000000000000  5.00000000000000  6.00000000000000]"
      ]
     },
     "execution_count": 22,
     "metadata": {},
     "output_type": "execute_result"
    }
   ],
   "source": [
    "B"
   ]
  },
  {
   "cell_type": "markdown",
   "metadata": {},
   "source": [
    "Sage interpretó que B es una matriz con coeficientes reales, de dos filas y tres columnas, y repartió la lista de objetos que le dimos. Observemos que si no decimos nada, lo interpreta más naturalmente sin los ceros molestos.\n",
    "\n",
    "Ya vimos que obviamente no es necesario darle tanta información, pero experimentemos igualmente."
   ]
  },
  {
   "cell_type": "code",
   "execution_count": 23,
   "metadata": {},
   "outputs": [
    {
     "data": {
      "text/html": [
       "<html>\\(\\displaystyle \\left(\\begin{array}{r}\n",
       "2 \\\\\n",
       "3 \\\\\n",
       "4 \\\\\n",
       "5\n",
       "\\end{array}\\right)\\)</html>"
      ],
      "text/latex": [
       "$\\displaystyle \\left(\\begin{array}{r}\n",
       "2 \\\\\n",
       "3 \\\\\n",
       "4 \\\\\n",
       "5\n",
       "\\end{array}\\right)$"
      ],
      "text/plain": [
       "[2]\n",
       "[3]\n",
       "[4]\n",
       "[5]"
      ]
     },
     "execution_count": 23,
     "metadata": {},
     "output_type": "execute_result"
    }
   ],
   "source": [
    "Matrix(4, [2,3,4,5])"
   ]
  },
  {
   "cell_type": "code",
   "execution_count": 24,
   "metadata": {},
   "outputs": [
    {
     "data": {
      "text/html": [
       "<html>\\(\\displaystyle \\left(\\begin{array}{rrrr}\n",
       "2 & 3 & 4 & 5\n",
       "\\end{array}\\right)\\)</html>"
      ],
      "text/latex": [
       "$\\displaystyle \\left(\\begin{array}{rrrr}\n",
       "2 & 3 & 4 & 5\n",
       "\\end{array}\\right)$"
      ],
      "text/plain": [
       "[2 3 4 5]"
      ]
     },
     "execution_count": 24,
     "metadata": {},
     "output_type": "execute_result"
    }
   ],
   "source": [
    "Matrix(1, [2,3,4,5])"
   ]
  },
  {
   "cell_type": "code",
   "execution_count": 25,
   "metadata": {},
   "outputs": [
    {
     "data": {
      "text/html": [
       "<html>\\(\\displaystyle \\left(\\begin{array}{rr}\n",
       "2 & 3 \\\\\n",
       "4 & 5\n",
       "\\end{array}\\right)\\)</html>"
      ],
      "text/latex": [
       "$\\displaystyle \\left(\\begin{array}{rr}\n",
       "2 & 3 \\\\\n",
       "4 & 5\n",
       "\\end{array}\\right)$"
      ],
      "text/plain": [
       "[2 3]\n",
       "[4 5]"
      ]
     },
     "execution_count": 25,
     "metadata": {},
     "output_type": "execute_result"
    }
   ],
   "source": [
    "Matrix(2, [2,3,4,5])"
   ]
  },
  {
   "cell_type": "code",
   "execution_count": 26,
   "metadata": {},
   "outputs": [
    {
     "data": {
      "text/html": [
       "<html>\\(\\displaystyle \\left(\\begin{array}{rr}\n",
       "2 & 3 \\\\\n",
       "4 & 5\n",
       "\\end{array}\\right)\\)</html>"
      ],
      "text/latex": [
       "$\\displaystyle \\left(\\begin{array}{rr}\n",
       "2 & 3 \\\\\n",
       "4 & 5\n",
       "\\end{array}\\right)$"
      ],
      "text/plain": [
       "[2 3]\n",
       "[4 5]"
      ]
     },
     "execution_count": 26,
     "metadata": {},
     "output_type": "execute_result"
    }
   ],
   "source": [
    "Matrix(2,2, [2,3,4,5])"
   ]
  },
  {
   "cell_type": "code",
   "execution_count": 27,
   "metadata": {},
   "outputs": [
    {
     "ename": "ValueError",
     "evalue": "sequence too long (expected length 3, got more)",
     "output_type": "error",
     "traceback": [
      "\u001b[0;31m---------------------------------------------------------------------------\u001b[0m",
      "\u001b[0;31mValueError\u001b[0m                                Traceback (most recent call last)",
      "Input \u001b[0;32mIn [27]\u001b[0m, in \u001b[0;36m<cell line: 1>\u001b[0;34m()\u001b[0m\n\u001b[0;32m----> 1\u001b[0m \u001b[43mMatrix\u001b[49m\u001b[43m(\u001b[49m\u001b[43mInteger\u001b[49m\u001b[43m(\u001b[49m\u001b[38;5;241;43m3\u001b[39;49m\u001b[43m)\u001b[49m\u001b[43m,\u001b[49m\u001b[43m \u001b[49m\u001b[43m[\u001b[49m\u001b[43mInteger\u001b[49m\u001b[43m(\u001b[49m\u001b[38;5;241;43m2\u001b[39;49m\u001b[43m)\u001b[49m\u001b[43m,\u001b[49m\u001b[43mInteger\u001b[49m\u001b[43m(\u001b[49m\u001b[38;5;241;43m3\u001b[39;49m\u001b[43m)\u001b[49m\u001b[43m,\u001b[49m\u001b[43mInteger\u001b[49m\u001b[43m(\u001b[49m\u001b[38;5;241;43m4\u001b[39;49m\u001b[43m)\u001b[49m\u001b[43m,\u001b[49m\u001b[43mInteger\u001b[49m\u001b[43m(\u001b[49m\u001b[38;5;241;43m5\u001b[39;49m\u001b[43m)\u001b[49m\u001b[43m]\u001b[49m\u001b[43m)\u001b[49m\n",
      "File \u001b[0;32m/usr/lib/python3.10/site-packages/sage/matrix/constructor.pyx:643\u001b[0m, in \u001b[0;36msage.matrix.constructor.matrix (build/cythonized/sage/matrix/constructor.c:2796)\u001b[0;34m()\u001b[0m\n\u001b[1;32m    641\u001b[0m \"\"\"\n\u001b[1;32m    642\u001b[0m immutable = kwds.pop('immutable', False)\n\u001b[0;32m--> 643\u001b[0m M = MatrixArgs(*args, **kwds).matrix()\n\u001b[1;32m    644\u001b[0m if immutable:\n\u001b[1;32m    645\u001b[0m     M.set_immutable()\n",
      "File \u001b[0;32m/usr/lib/python3.10/site-packages/sage/matrix/args.pyx:667\u001b[0m, in \u001b[0;36msage.matrix.args.MatrixArgs.matrix (build/cythonized/sage/matrix/args.c:8077)\u001b[0;34m()\u001b[0m\n\u001b[1;32m    665\u001b[0m             break\n\u001b[1;32m    666\u001b[0m else:\n\u001b[0;32m--> 667\u001b[0m     M = self.space(self, coerce=convert)\n\u001b[1;32m    668\u001b[0m \n\u001b[1;32m    669\u001b[0m # Also store the matrix to support multiple calls of matrix()\n",
      "File \u001b[0;32m/usr/lib/python3.10/site-packages/sage/structure/parent.pyx:899\u001b[0m, in \u001b[0;36msage.structure.parent.Parent.__call__ (build/cythonized/sage/structure/parent.c:9543)\u001b[0;34m()\u001b[0m\n\u001b[1;32m    897\u001b[0m         return mor._call_(x)\n\u001b[1;32m    898\u001b[0m     else:\n\u001b[0;32m--> 899\u001b[0m         return mor._call_with_args(x, args, kwds)\n\u001b[1;32m    900\u001b[0m \n\u001b[1;32m    901\u001b[0m raise TypeError(_LazyString(\"No conversion defined from %s to %s\", (R, self), {}))\n",
      "File \u001b[0;32m/usr/lib/python3.10/site-packages/sage/structure/coerce_maps.pyx:180\u001b[0m, in \u001b[0;36msage.structure.coerce_maps.DefaultConvertMap_unique._call_with_args (build/cythonized/sage/structure/coerce_maps.c:5330)\u001b[0;34m()\u001b[0m\n\u001b[1;32m    178\u001b[0m     print(type(C), C)\n\u001b[1;32m    179\u001b[0m     print(type(C._element_constructor), C._element_constructor)\n\u001b[0;32m--> 180\u001b[0m raise\n\u001b[1;32m    181\u001b[0m \n\u001b[1;32m    182\u001b[0m \n",
      "File \u001b[0;32m/usr/lib/python3.10/site-packages/sage/structure/coerce_maps.pyx:170\u001b[0m, in \u001b[0;36msage.structure.coerce_maps.DefaultConvertMap_unique._call_with_args (build/cythonized/sage/structure/coerce_maps.c:5120)\u001b[0;34m()\u001b[0m\n\u001b[1;32m    168\u001b[0m         return C._element_constructor(x)\n\u001b[1;32m    169\u001b[0m     else:\n\u001b[0;32m--> 170\u001b[0m         return C._element_constructor(x, **kwds)\n\u001b[1;32m    171\u001b[0m else:\n\u001b[1;32m    172\u001b[0m     if len(kwds) == 0:\n",
      "File \u001b[0;32m/usr/lib/python3.10/site-packages/sage/matrix/matrix_space.py:929\u001b[0m, in \u001b[0;36mMatrixSpace._element_constructor_\u001b[0;34m(self, entries, **kwds)\u001b[0m\n\u001b[1;32m    819\u001b[0m \u001b[38;5;28;01mdef\u001b[39;00m \u001b[38;5;21m_element_constructor_\u001b[39m(\u001b[38;5;28mself\u001b[39m, entries, \u001b[38;5;241m*\u001b[39m\u001b[38;5;241m*\u001b[39mkwds):\n\u001b[1;32m    820\u001b[0m     \u001b[38;5;124;03m\"\"\"\u001b[39;00m\n\u001b[1;32m    821\u001b[0m \u001b[38;5;124;03m    Construct an element of ``self`` from ``entries``.\u001b[39;00m\n\u001b[1;32m    822\u001b[0m \n\u001b[0;32m   (...)\u001b[0m\n\u001b[1;32m    927\u001b[0m \u001b[38;5;124;03m        False\u001b[39;00m\n\u001b[1;32m    928\u001b[0m \u001b[38;5;124;03m    \"\"\"\u001b[39;00m\n\u001b[0;32m--> 929\u001b[0m     \u001b[38;5;28;01mreturn\u001b[39;00m \u001b[38;5;28;43mself\u001b[39;49m\u001b[38;5;241;43m.\u001b[39;49m\u001b[43melement_class\u001b[49m\u001b[43m(\u001b[49m\u001b[38;5;28;43mself\u001b[39;49m\u001b[43m,\u001b[49m\u001b[43m \u001b[49m\u001b[43mentries\u001b[49m\u001b[43m,\u001b[49m\u001b[43m \u001b[49m\u001b[38;5;241;43m*\u001b[39;49m\u001b[38;5;241;43m*\u001b[39;49m\u001b[43mkwds\u001b[49m\u001b[43m)\u001b[49m\n",
      "File \u001b[0;32m/usr/lib/python3.10/site-packages/sage/matrix/matrix_integer_dense.pyx:311\u001b[0m, in \u001b[0;36msage.matrix.matrix_integer_dense.Matrix_integer_dense.__init__ (build/cythonized/sage/matrix/matrix_integer_dense.cpp:7350)\u001b[0;34m()\u001b[0m\n\u001b[1;32m    309\u001b[0m ma = MatrixArgs_init(parent, entries)\n\u001b[1;32m    310\u001b[0m cdef Integer z\n\u001b[0;32m--> 311\u001b[0m for t in ma.iter(coerce, True):\n\u001b[1;32m    312\u001b[0m     se = <SparseEntry>t\n\u001b[1;32m    313\u001b[0m     z = <Integer>se.entry\n",
      "File \u001b[0;32m/usr/lib/python3.10/site-packages/sage/matrix/args.pyx:531\u001b[0m, in \u001b[0;36miter (build/cythonized/sage/matrix/args.c:6813)\u001b[0;34m()\u001b[0m\n\u001b[1;32m    529\u001b[0m for j in range(self.ncols):\n\u001b[1;32m    530\u001b[0m     sig_check()\n\u001b[0;32m--> 531\u001b[0m     x = next(it)\n\u001b[1;32m    532\u001b[0m     if convert and self.need_to_convert(x):\n\u001b[1;32m    533\u001b[0m         x = self.base(x)\n",
      "File \u001b[0;32m/usr/lib/python3.10/site-packages/sage/misc/misc_c.pyx:729\u001b[0m, in \u001b[0;36msage.misc.misc_c.sized_iter.__next__ (build/cythonized/sage/misc/misc_c.c:6215)\u001b[0;34m()\u001b[0m\n\u001b[1;32m    727\u001b[0m     raise ValueError(f\"sequence too short (expected length {self.size}, got {self.index})\")\n\u001b[1;32m    728\u001b[0m self.index += 1\n\u001b[0;32m--> 729\u001b[0m self.check()\n\u001b[1;32m    730\u001b[0m return x\n\u001b[1;32m    731\u001b[0m \n",
      "File \u001b[0;32m/usr/lib/python3.10/site-packages/sage/misc/misc_c.pyx:719\u001b[0m, in \u001b[0;36msage.misc.misc_c.sized_iter.check (build/cythonized/sage/misc/misc_c.c:5938)\u001b[0;34m()\u001b[0m\n\u001b[1;32m    717\u001b[0m         pass\n\u001b[1;32m    718\u001b[0m     else:\n\u001b[0;32m--> 719\u001b[0m         raise ValueError(f\"sequence too long (expected length {self.size}, got more)\")\n\u001b[1;32m    720\u001b[0m \n\u001b[1;32m    721\u001b[0m def __next__(self):\n",
      "\u001b[0;31mValueError\u001b[0m: sequence too long (expected length 3, got more)"
     ]
    }
   ],
   "source": [
    "Matrix(3, [2,3,4,5])"
   ]
  },
  {
   "cell_type": "markdown",
   "metadata": {},
   "source": [
    "Esta dió error, porque no sabe cómo armar una matriz con esos datos. En general, va a intentar hacer lo más evidente. Es la magia de la sintaxis de Python!"
   ]
  },
  {
   "cell_type": "markdown",
   "metadata": {},
   "source": [
    "A veces será necesario trabajar con entradas desconocidas. Para eso podemos usar el comando var, que asigna una variable. Veamos:"
   ]
  },
  {
   "cell_type": "code",
   "execution_count": 34,
   "metadata": {},
   "outputs": [],
   "source": [
    "t = var('t')"
   ]
  },
  {
   "cell_type": "code",
   "execution_count": 35,
   "metadata": {},
   "outputs": [
    {
     "data": {
      "text/html": [
       "<html>\\(\\displaystyle t\\)</html>"
      ],
      "text/latex": [
       "$\\displaystyle t$"
      ],
      "text/plain": [
       "t"
      ]
     },
     "execution_count": 35,
     "metadata": {},
     "output_type": "execute_result"
    }
   ],
   "source": [
    "t"
   ]
  },
  {
   "cell_type": "code",
   "execution_count": 36,
   "metadata": {},
   "outputs": [
    {
     "data": {
      "text/html": [
       "<html>\\(\\displaystyle \\left(\\begin{array}{rr}\n",
       "t & 0 \\\\\n",
       "0 & t\n",
       "\\end{array}\\right)\\)</html>"
      ],
      "text/latex": [
       "$\\displaystyle \\left(\\begin{array}{rr}\n",
       "t & 0 \\\\\n",
       "0 & t\n",
       "\\end{array}\\right)$"
      ],
      "text/plain": [
       "[t 0]\n",
       "[0 t]"
      ]
     },
     "execution_count": 36,
     "metadata": {},
     "output_type": "execute_result"
    }
   ],
   "source": [
    "matrix(2,2,t)"
   ]
  },
  {
   "cell_type": "markdown",
   "metadata": {},
   "source": [
    "Si hace falta, le aclaramos \"SR\" que significa \"Symbolic Ring\", es decir, le aclaramos que las entradas estarán en un anillo simbólico. Esto quiere decir que no le pedimos que los coeficientes estén en $\\mathbb{Q}$, $\\mathbb{R}$ o $\\mathbb{C}$ sino que sus entradas pueden ser indeterminadas, pero no pueden estar fuera de un *anillo*, que si bien aún no hemos dicho qué es esta estructura algebraica, podemos decir que los cuerpos numéricos conocidos ($\\mathbb{Q}$, $\\mathbb{R}$ o $\\mathbb{C}$) en particular son anillos, y de paso, que $\\mathbb{Z}$ también es un anillo (aunque no es un cuerpo! ya lo verán más adelante en sus carreras)."
   ]
  },
  {
   "cell_type": "code",
   "execution_count": 37,
   "metadata": {},
   "outputs": [
    {
     "data": {
      "text/html": [
       "<html>\\(\\displaystyle \\left(\\begin{array}{rr}\n",
       "t & 0 \\\\\n",
       "0 & t\n",
       "\\end{array}\\right)\\)</html>"
      ],
      "text/latex": [
       "$\\displaystyle \\left(\\begin{array}{rr}\n",
       "t & 0 \\\\\n",
       "0 & t\n",
       "\\end{array}\\right)$"
      ],
      "text/plain": [
       "[t 0]\n",
       "[0 t]"
      ]
     },
     "execution_count": 37,
     "metadata": {},
     "output_type": "execute_result"
    }
   ],
   "source": [
    "matrix(SR, 2,2,t)"
   ]
  },
  {
   "cell_type": "code",
   "execution_count": 38,
   "metadata": {},
   "outputs": [
    {
     "data": {
      "text/html": [
       "<html>\\(\\displaystyle \\left(\\begin{array}{rrr}\n",
       "x & 0 & 0 \\\\\n",
       "0 & x & 0 \\\\\n",
       "0 & 0 & x\n",
       "\\end{array}\\right)\\)</html>"
      ],
      "text/latex": [
       "$\\displaystyle \\left(\\begin{array}{rrr}\n",
       "x & 0 & 0 \\\\\n",
       "0 & x & 0 \\\\\n",
       "0 & 0 & x\n",
       "\\end{array}\\right)$"
      ],
      "text/plain": [
       "[x 0 0]\n",
       "[0 x 0]\n",
       "[0 0 x]"
      ]
     },
     "execution_count": 38,
     "metadata": {},
     "output_type": "execute_result"
    }
   ],
   "source": [
    "matrix(SR, 3, 3, var('x'))"
   ]
  },
  {
   "cell_type": "markdown",
   "metadata": {},
   "source": [
    "Armemos una matriz identidad $4 \\times 4$:"
   ]
  },
  {
   "cell_type": "code",
   "execution_count": 40,
   "metadata": {},
   "outputs": [
    {
     "data": {
      "text/html": [
       "<html>\\(\\displaystyle \\left(\\begin{array}{rrrr}\n",
       "1 & 0 & 0 & 0 \\\\\n",
       "0 & 1 & 0 & 0 \\\\\n",
       "0 & 0 & 1 & 0 \\\\\n",
       "0 & 0 & 0 & 1\n",
       "\\end{array}\\right)\\)</html>"
      ],
      "text/latex": [
       "$\\displaystyle \\left(\\begin{array}{rrrr}\n",
       "1 & 0 & 0 & 0 \\\\\n",
       "0 & 1 & 0 & 0 \\\\\n",
       "0 & 0 & 1 & 0 \\\\\n",
       "0 & 0 & 0 & 1\n",
       "\\end{array}\\right)$"
      ],
      "text/plain": [
       "[1 0 0 0]\n",
       "[0 1 0 0]\n",
       "[0 0 1 0]\n",
       "[0 0 0 1]"
      ]
     },
     "execution_count": 40,
     "metadata": {},
     "output_type": "execute_result"
    }
   ],
   "source": [
    "matrix.identity(4)"
   ]
  },
  {
   "cell_type": "code",
   "execution_count": 42,
   "metadata": {},
   "outputs": [
    {
     "data": {
      "text/html": [
       "<html>\\(\\displaystyle \\left(\\begin{array}{rrrrrr}\n",
       "0 & 0 & 0 & 0 & 0 & 0 \\\\\n",
       "0 & 0 & 0 & 0 & 0 & 0 \\\\\n",
       "0 & 0 & 0 & 0 & 0 & 0 \\\\\n",
       "0 & 0 & 0 & 0 & 0 & 0 \\\\\n",
       "0 & 0 & 0 & 0 & 0 & 0 \\\\\n",
       "0 & 0 & 0 & 0 & 0 & 0\n",
       "\\end{array}\\right)\\)</html>"
      ],
      "text/latex": [
       "$\\displaystyle \\left(\\begin{array}{rrrrrr}\n",
       "0 & 0 & 0 & 0 & 0 & 0 \\\\\n",
       "0 & 0 & 0 & 0 & 0 & 0 \\\\\n",
       "0 & 0 & 0 & 0 & 0 & 0 \\\\\n",
       "0 & 0 & 0 & 0 & 0 & 0 \\\\\n",
       "0 & 0 & 0 & 0 & 0 & 0 \\\\\n",
       "0 & 0 & 0 & 0 & 0 & 0\n",
       "\\end{array}\\right)$"
      ],
      "text/plain": [
       "[0 0 0 0 0 0]\n",
       "[0 0 0 0 0 0]\n",
       "[0 0 0 0 0 0]\n",
       "[0 0 0 0 0 0]\n",
       "[0 0 0 0 0 0]\n",
       "[0 0 0 0 0 0]"
      ]
     },
     "execution_count": 42,
     "metadata": {},
     "output_type": "execute_result"
    }
   ],
   "source": [
    "matrix.zero(6)"
   ]
  },
  {
   "cell_type": "markdown",
   "metadata": {},
   "source": [
    "Así armamos una matriz de ceros. Les sugiero jueguen con lo siguiente: escriban en la siguiente celda \"matrix.\" luego apreten \"Tab\" y vean qué pasa."
   ]
  },
  {
   "cell_type": "code",
   "execution_count": 43,
   "metadata": {},
   "outputs": [],
   "source": [
    "# Escribir \"matrix.\" y apretar TAB\n"
   ]
  },
  {
   "cell_type": "markdown",
   "metadata": {},
   "source": [
    "Observemos que en la celda anterior usamos el símbolo numeral (también conocido como cardinal, sharp o ahora también se le dice hashtag). Esto significa que lo que sigue de código no se interpreta. Sirve para comentarios. Muchas veces es de gran utilidad poner comentarios cuando uno escribe código. En Python también se usa #, en latex se usa %, etc."
   ]
  },
  {
   "cell_type": "markdown",
   "metadata": {},
   "source": [
    "Y a veces tenemos que dar las entradas a través de una fórmula en lugar de una lista. Para esto usaremos el comando lambda de Python, a quien le tenemos que informar las variables y cómo generan éstas las entradas. Veamos:"
   ]
  },
  {
   "cell_type": "code",
   "execution_count": 44,
   "metadata": {},
   "outputs": [
    {
     "data": {
      "text/html": [
       "<html>\\(\\displaystyle \\left(\\begin{array}{rrr}\n",
       "0 & 1 & 2 \\\\\n",
       "1 & 2 & 3 \\\\\n",
       "2 & 3 & 4\n",
       "\\end{array}\\right)\\)</html>"
      ],
      "text/latex": [
       "$\\displaystyle \\left(\\begin{array}{rrr}\n",
       "0 & 1 & 2 \\\\\n",
       "1 & 2 & 3 \\\\\n",
       "2 & 3 & 4\n",
       "\\end{array}\\right)$"
      ],
      "text/plain": [
       "[0 1 2]\n",
       "[1 2 3]\n",
       "[2 3 4]"
      ]
     },
     "execution_count": 44,
     "metadata": {},
     "output_type": "execute_result"
    }
   ],
   "source": [
    "D = matrix(QQ, 3, 3, lambda i, j: i+j)\n",
    "D"
   ]
  },
  {
   "cell_type": "code",
   "execution_count": 45,
   "metadata": {},
   "outputs": [
    {
     "data": {
      "text/html": [
       "<html>\\(\\displaystyle \\left(\\begin{array}{rrr}\n",
       "0 & -1 & -2 \\\\\n",
       "1 & 0 & -1 \\\\\n",
       "2 & 1 & 0\n",
       "\\end{array}\\right)\\)</html>"
      ],
      "text/latex": [
       "$\\displaystyle \\left(\\begin{array}{rrr}\n",
       "0 & -1 & -2 \\\\\n",
       "1 & 0 & -1 \\\\\n",
       "2 & 1 & 0\n",
       "\\end{array}\\right)$"
      ],
      "text/plain": [
       "[ 0 -1 -2]\n",
       "[ 1  0 -1]\n",
       "[ 2  1  0]"
      ]
     },
     "execution_count": 45,
     "metadata": {},
     "output_type": "execute_result"
    }
   ],
   "source": [
    "matrix(3,lambda i,j: i-j)"
   ]
  },
  {
   "cell_type": "code",
   "execution_count": 46,
   "metadata": {},
   "outputs": [
    {
     "data": {
      "text/html": [
       "<html>\\(\\displaystyle \\left(\\begin{array}{rrr}\n",
       "0 & 1 & 2 \\\\\n",
       "1 & 2 & 3\n",
       "\\end{array}\\right)\\)</html>"
      ],
      "text/latex": [
       "$\\displaystyle \\left(\\begin{array}{rrr}\n",
       "0 & 1 & 2 \\\\\n",
       "1 & 2 & 3\n",
       "\\end{array}\\right)$"
      ],
      "text/plain": [
       "[0 1 2]\n",
       "[1 2 3]"
      ]
     },
     "execution_count": 46,
     "metadata": {},
     "output_type": "execute_result"
    }
   ],
   "source": [
    "matrix(QQ, 2, 3,lambda x, y: x+y)"
   ]
  },
  {
   "cell_type": "code",
   "execution_count": 47,
   "metadata": {},
   "outputs": [
    {
     "data": {
      "text/html": [
       "<html>\\(\\displaystyle \\left(\\begin{array}{rrrrr}\n",
       "1 & \\frac{1}{2} & \\frac{1}{3} & \\frac{1}{4} & \\frac{1}{5} \\\\\n",
       "2 & 1 & \\frac{2}{3} & \\frac{1}{2} & \\frac{2}{5} \\\\\n",
       "3 & \\frac{3}{2} & 1 & \\frac{3}{4} & \\frac{3}{5} \\\\\n",
       "4 & 2 & \\frac{4}{3} & 1 & \\frac{4}{5} \\\\\n",
       "5 & \\frac{5}{2} & \\frac{5}{3} & \\frac{5}{4} & 1\n",
       "\\end{array}\\right)\\)</html>"
      ],
      "text/latex": [
       "$\\displaystyle \\left(\\begin{array}{rrrrr}\n",
       "1 & \\frac{1}{2} & \\frac{1}{3} & \\frac{1}{4} & \\frac{1}{5} \\\\\n",
       "2 & 1 & \\frac{2}{3} & \\frac{1}{2} & \\frac{2}{5} \\\\\n",
       "3 & \\frac{3}{2} & 1 & \\frac{3}{4} & \\frac{3}{5} \\\\\n",
       "4 & 2 & \\frac{4}{3} & 1 & \\frac{4}{5} \\\\\n",
       "5 & \\frac{5}{2} & \\frac{5}{3} & \\frac{5}{4} & 1\n",
       "\\end{array}\\right)$"
      ],
      "text/plain": [
       "[  1 1/2 1/3 1/4 1/5]\n",
       "[  2   1 2/3 1/2 2/5]\n",
       "[  3 3/2   1 3/4 3/5]\n",
       "[  4   2 4/3   1 4/5]\n",
       "[  5 5/2 5/3 5/4   1]"
      ]
     },
     "execution_count": 47,
     "metadata": {},
     "output_type": "execute_result"
    }
   ],
   "source": [
    "matrix(QQ, 5, 5,lambda x, y: (x+1) / (y+1))"
   ]
  },
  {
   "cell_type": "markdown",
   "metadata": {},
   "source": [
    "Pasemos ahora a ver el tema de las filas y columnas. Como observación general, la numeración comienza en 0, no en 1. Esto hay que tenerlo MUY en cuenta.\n",
    "\n",
    "Entonces para llamar a la primera fila, tenemos que usar el comando row pero indicarla con un 0. Recordemos la matriz M y usemos el comando parent para que nos diga todo lo que sabe Sage acerca de esa matriz, luego revisemos los comandos filas y columnas.\n",
    "\n",
    "OJO, REMIL OJO con el producto matricial, hay una diferencia a izquierda y a derecha."
   ]
  },
  {
   "cell_type": "code",
   "execution_count": 48,
   "metadata": {},
   "outputs": [
    {
     "data": {
      "text/html": [
       "<html>\\(\\displaystyle \\left(\\begin{array}{rrrr}\n",
       "2 & 4 & 0 & 8 \\\\\n",
       "-1 & 3 & 3 & -2 \\\\\n",
       "0 & 1 & 1 & 0\n",
       "\\end{array}\\right)\\)</html>"
      ],
      "text/latex": [
       "$\\displaystyle \\left(\\begin{array}{rrrr}\n",
       "2 & 4 & 0 & 8 \\\\\n",
       "-1 & 3 & 3 & -2 \\\\\n",
       "0 & 1 & 1 & 0\n",
       "\\end{array}\\right)$"
      ],
      "text/plain": [
       "[ 2  4  0  8]\n",
       "[-1  3  3 -2]\n",
       "[ 0  1  1  0]"
      ]
     },
     "execution_count": 48,
     "metadata": {},
     "output_type": "execute_result"
    }
   ],
   "source": [
    "M"
   ]
  },
  {
   "cell_type": "code",
   "execution_count": 49,
   "metadata": {},
   "outputs": [
    {
     "data": {
      "text/html": [
       "<html>\\(\\displaystyle \\newcommand{\\Bold}[1]{\\mathbf{#1}}\\mathrm{Mat}_{3\\times 4}(\\Bold{Z})\\)</html>"
      ],
      "text/latex": [
       "$\\displaystyle \\newcommand{\\Bold}[1]{\\mathbf{#1}}\\mathrm{Mat}_{3\\times 4}(\\Bold{Z})$"
      ],
      "text/plain": [
       "Full MatrixSpace of 3 by 4 dense matrices over Integer Ring"
      ]
     },
     "execution_count": 49,
     "metadata": {},
     "output_type": "execute_result"
    }
   ],
   "source": [
    "M.parent()"
   ]
  },
  {
   "cell_type": "code",
   "execution_count": 50,
   "metadata": {},
   "outputs": [
    {
     "data": {
      "text/html": [
       "<html>\\(\\displaystyle \\left(2,\\,4,\\,0,\\,8\\right)\\)</html>"
      ],
      "text/latex": [
       "$\\displaystyle \\left(2,\\,4,\\,0,\\,8\\right)$"
      ],
      "text/plain": [
       "(2, 4, 0, 8)"
      ]
     },
     "execution_count": 50,
     "metadata": {},
     "output_type": "execute_result"
    }
   ],
   "source": [
    "M.row(0)"
   ]
  },
  {
   "cell_type": "code",
   "execution_count": 51,
   "metadata": {},
   "outputs": [
    {
     "data": {
      "text/html": [
       "<html>\\(\\displaystyle 3\\)</html>"
      ],
      "text/latex": [
       "$\\displaystyle 3$"
      ],
      "text/plain": [
       "3"
      ]
     },
     "execution_count": 51,
     "metadata": {},
     "output_type": "execute_result"
    }
   ],
   "source": [
    "M.nrows()"
   ]
  },
  {
   "cell_type": "code",
   "execution_count": 52,
   "metadata": {},
   "outputs": [
    {
     "data": {
      "text/html": [
       "<html>\\(\\displaystyle 4\\)</html>"
      ],
      "text/latex": [
       "$\\displaystyle 4$"
      ],
      "text/plain": [
       "4"
      ]
     },
     "execution_count": 52,
     "metadata": {},
     "output_type": "execute_result"
    }
   ],
   "source": [
    "M.ncols()"
   ]
  },
  {
   "cell_type": "code",
   "execution_count": 53,
   "metadata": {},
   "outputs": [
    {
     "data": {
      "text/html": [
       "<html>\\(\\displaystyle \\left(8,\\,-2,\\,0\\right)\\)</html>"
      ],
      "text/latex": [
       "$\\displaystyle \\left(8,\\,-2,\\,0\\right)$"
      ],
      "text/plain": [
       "(8, -2, 0)"
      ]
     },
     "execution_count": 53,
     "metadata": {},
     "output_type": "execute_result"
    }
   ],
   "source": [
    "M.column(3)"
   ]
  },
  {
   "cell_type": "markdown",
   "metadata": {},
   "source": [
    "Vamos a intentar operar con matrices."
   ]
  },
  {
   "cell_type": "code",
   "execution_count": 54,
   "metadata": {},
   "outputs": [
    {
     "data": {
      "text/html": [
       "<html>\\(\\displaystyle \\left(\\begin{array}{rrr}\n",
       "1 & 2 & 3 \\\\\n",
       "3 & 2 & 1 \\\\\n",
       "1 & 1 & 1\n",
       "\\end{array}\\right)\\)</html>"
      ],
      "text/latex": [
       "$\\displaystyle \\left(\\begin{array}{rrr}\n",
       "1 & 2 & 3 \\\\\n",
       "3 & 2 & 1 \\\\\n",
       "1 & 1 & 1\n",
       "\\end{array}\\right)$"
      ],
      "text/plain": [
       "[1 2 3]\n",
       "[3 2 1]\n",
       "[1 1 1]"
      ]
     },
     "metadata": {},
     "output_type": "display_data"
    },
    {
     "data": {
      "text/html": [
       "<html>\\(\\displaystyle \\left(\\begin{array}{rrr}\n",
       "4.00000000000000 & 3.00000000000000 & -1.00000000000000 \\\\\n",
       "2.00000000000000 & 5.00000000000000 & 6.00000000000000\n",
       "\\end{array}\\right)\\)</html>"
      ],
      "text/latex": [
       "$\\displaystyle \\left(\\begin{array}{rrr}\n",
       "4.00000000000000 & 3.00000000000000 & -1.00000000000000 \\\\\n",
       "2.00000000000000 & 5.00000000000000 & 6.00000000000000\n",
       "\\end{array}\\right)$"
      ],
      "text/plain": [
       "[ 4.00000000000000  3.00000000000000 -1.00000000000000]\n",
       "[ 2.00000000000000  5.00000000000000  6.00000000000000]"
      ]
     },
     "metadata": {},
     "output_type": "display_data"
    }
   ],
   "source": [
    "display(A,B)"
   ]
  },
  {
   "cell_type": "code",
   "execution_count": 55,
   "metadata": {},
   "outputs": [
    {
     "data": {
      "text/html": [
       "<html>\\(\\displaystyle \\newcommand{\\Bold}[1]{\\mathbf{#1}}\\mathrm{Mat}_{3\\times 3}(\\Bold{Z})\\)</html>"
      ],
      "text/latex": [
       "$\\displaystyle \\newcommand{\\Bold}[1]{\\mathbf{#1}}\\mathrm{Mat}_{3\\times 3}(\\Bold{Z})$"
      ],
      "text/plain": [
       "Full MatrixSpace of 3 by 3 dense matrices over Integer Ring"
      ]
     },
     "execution_count": 55,
     "metadata": {},
     "output_type": "execute_result"
    }
   ],
   "source": [
    "A.parent()"
   ]
  },
  {
   "cell_type": "code",
   "execution_count": 56,
   "metadata": {},
   "outputs": [
    {
     "data": {
      "text/html": [
       "<html>\\(\\displaystyle \\newcommand{\\Bold}[1]{\\mathbf{#1}}\\mathrm{Mat}_{2\\times 3}(\\Bold{R})\\)</html>"
      ],
      "text/latex": [
       "$\\displaystyle \\newcommand{\\Bold}[1]{\\mathbf{#1}}\\mathrm{Mat}_{2\\times 3}(\\Bold{R})$"
      ],
      "text/plain": [
       "Full MatrixSpace of 2 by 3 dense matrices over Real Field with 53 bits of precision"
      ]
     },
     "execution_count": 56,
     "metadata": {},
     "output_type": "execute_result"
    }
   ],
   "source": [
    "B.parent()"
   ]
  },
  {
   "cell_type": "code",
   "execution_count": 57,
   "metadata": {},
   "outputs": [
    {
     "ename": "NameError",
     "evalue": "name 'C' is not defined",
     "output_type": "error",
     "traceback": [
      "\u001b[0;31m---------------------------------------------------------------------------\u001b[0m",
      "\u001b[0;31mNameError\u001b[0m                                 Traceback (most recent call last)",
      "Input \u001b[0;32mIn [57]\u001b[0m, in \u001b[0;36m<cell line: 1>\u001b[0;34m()\u001b[0m\n\u001b[0;32m----> 1\u001b[0m \u001b[43mC\u001b[49m\u001b[38;5;241m.\u001b[39mparent()\n",
      "\u001b[0;31mNameError\u001b[0m: name 'C' is not defined"
     ]
    }
   ],
   "source": [
    "C.parent()"
   ]
  },
  {
   "cell_type": "code",
   "execution_count": null,
   "metadata": {},
   "outputs": [],
   "source": [
    "D.parent()"
   ]
  },
  {
   "cell_type": "code",
   "execution_count": null,
   "metadata": {},
   "outputs": [],
   "source": [
    "E = matrix(2,[1,-1,0,1])"
   ]
  },
  {
   "cell_type": "code",
   "execution_count": null,
   "metadata": {},
   "outputs": [],
   "source": [
    "E"
   ]
  },
  {
   "cell_type": "code",
   "execution_count": null,
   "metadata": {},
   "outputs": [],
   "source": [
    "F = matrix(2,[1,0,2,2])"
   ]
  },
  {
   "cell_type": "code",
   "execution_count": null,
   "metadata": {},
   "outputs": [],
   "source": [
    "F"
   ]
  },
  {
   "cell_type": "markdown",
   "metadata": {},
   "source": [
    "$A+B$ no nos deja hacer. Prueben otras operaciones ilícitas, les va a dar error."
   ]
  },
  {
   "cell_type": "code",
   "execution_count": null,
   "metadata": {},
   "outputs": [],
   "source": [
    "A + D"
   ]
  },
  {
   "cell_type": "code",
   "execution_count": null,
   "metadata": {},
   "outputs": [],
   "source": [
    "A * D"
   ]
  },
  {
   "cell_type": "code",
   "execution_count": null,
   "metadata": {},
   "outputs": [],
   "source": [
    "B * A"
   ]
  },
  {
   "cell_type": "code",
   "execution_count": null,
   "metadata": {},
   "outputs": [],
   "source": [
    "A - D"
   ]
  },
  {
   "cell_type": "code",
   "execution_count": null,
   "metadata": {},
   "outputs": [],
   "source": [
    "w.parent()"
   ]
  },
  {
   "cell_type": "code",
   "execution_count": null,
   "metadata": {},
   "outputs": [],
   "source": [
    "w"
   ]
  },
  {
   "cell_type": "code",
   "execution_count": null,
   "metadata": {},
   "outputs": [],
   "source": [
    "v.parent()"
   ]
  },
  {
   "cell_type": "code",
   "execution_count": 58,
   "metadata": {},
   "outputs": [
    {
     "data": {
      "text/html": [
       "<html>\\(\\displaystyle \\left(\\begin{array}{rrr}\n",
       "1 & 1 & 4\n",
       "\\end{array}\\right)\\)</html>"
      ],
      "text/latex": [
       "$\\displaystyle \\left(\\begin{array}{rrr}\n",
       "1 & 1 & 4\n",
       "\\end{array}\\right)$"
      ],
      "text/plain": [
       "[1 1 4]"
      ]
     },
     "execution_count": 58,
     "metadata": {},
     "output_type": "execute_result"
    }
   ],
   "source": [
    "v"
   ]
  },
  {
   "cell_type": "code",
   "execution_count": 59,
   "metadata": {},
   "outputs": [
    {
     "data": {
      "text/html": [
       "<html>\\(\\displaystyle \\left(8,\\,8,\\,8\\right)\\)</html>"
      ],
      "text/latex": [
       "$\\displaystyle \\left(8,\\,8,\\,8\\right)$"
      ],
      "text/plain": [
       "(8, 8, 8)"
      ]
     },
     "execution_count": 59,
     "metadata": {},
     "output_type": "execute_result"
    }
   ],
   "source": [
    "w * A"
   ]
  },
  {
   "cell_type": "code",
   "execution_count": 60,
   "metadata": {},
   "outputs": [
    {
     "data": {
      "text/html": [
       "<html>\\(\\displaystyle \\left(15,\\,9,\\,6\\right)\\)</html>"
      ],
      "text/latex": [
       "$\\displaystyle \\left(15,\\,9,\\,6\\right)$"
      ],
      "text/plain": [
       "(15, 9, 6)"
      ]
     },
     "execution_count": 60,
     "metadata": {},
     "output_type": "execute_result"
    }
   ],
   "source": [
    "A * w"
   ]
  },
  {
   "cell_type": "code",
   "execution_count": 61,
   "metadata": {},
   "outputs": [
    {
     "data": {
      "text/html": [
       "<html>\\(\\displaystyle \\left(\\begin{array}{rrr}\n",
       "8 & 8 & 8\n",
       "\\end{array}\\right)\\)</html>"
      ],
      "text/latex": [
       "$\\displaystyle \\left(\\begin{array}{rrr}\n",
       "8 & 8 & 8\n",
       "\\end{array}\\right)$"
      ],
      "text/plain": [
       "[8 8 8]"
      ]
     },
     "execution_count": 61,
     "metadata": {},
     "output_type": "execute_result"
    }
   ],
   "source": [
    "v * A"
   ]
  },
  {
   "cell_type": "markdown",
   "metadata": {},
   "source": [
    "$A*v$ no se puede hacer"
   ]
  },
  {
   "cell_type": "code",
   "execution_count": 62,
   "metadata": {},
   "outputs": [
    {
     "data": {
      "text/html": [
       "<html>\\(\\displaystyle \\left(\\begin{array}{rrr}\n",
       "1 & 3 & 1 \\\\\n",
       "2 & 2 & 1 \\\\\n",
       "3 & 1 & 1\n",
       "\\end{array}\\right)\\)</html>"
      ],
      "text/latex": [
       "$\\displaystyle \\left(\\begin{array}{rrr}\n",
       "1 & 3 & 1 \\\\\n",
       "2 & 2 & 1 \\\\\n",
       "3 & 1 & 1\n",
       "\\end{array}\\right)$"
      ],
      "text/plain": [
       "[1 3 1]\n",
       "[2 2 1]\n",
       "[3 1 1]"
      ]
     },
     "execution_count": 62,
     "metadata": {},
     "output_type": "execute_result"
    }
   ],
   "source": [
    "A.transpose()"
   ]
  },
  {
   "cell_type": "code",
   "execution_count": 63,
   "metadata": {},
   "outputs": [
    {
     "data": {
      "text/html": [
       "<html>\\(\\displaystyle \\left(\\begin{array}{rrr}\n",
       "1 & 3 & 1 \\\\\n",
       "2 & 2 & 1 \\\\\n",
       "3 & 1 & 1\n",
       "\\end{array}\\right)\\)</html>"
      ],
      "text/latex": [
       "$\\displaystyle \\left(\\begin{array}{rrr}\n",
       "1 & 3 & 1 \\\\\n",
       "2 & 2 & 1 \\\\\n",
       "3 & 1 & 1\n",
       "\\end{array}\\right)$"
      ],
      "text/plain": [
       "[1 3 1]\n",
       "[2 2 1]\n",
       "[3 1 1]"
      ]
     },
     "execution_count": 63,
     "metadata": {},
     "output_type": "execute_result"
    }
   ],
   "source": [
    "A.T"
   ]
  },
  {
   "cell_type": "code",
   "execution_count": 64,
   "metadata": {},
   "outputs": [
    {
     "data": {
      "text/html": [
       "<html>\\(\\displaystyle \\left(\\begin{array}{rr}\n",
       "4.00000000000000 & 2.00000000000000 \\\\\n",
       "3.00000000000000 & 5.00000000000000 \\\\\n",
       "-1.00000000000000 & 6.00000000000000\n",
       "\\end{array}\\right)\\)</html>"
      ],
      "text/latex": [
       "$\\displaystyle \\left(\\begin{array}{rr}\n",
       "4.00000000000000 & 2.00000000000000 \\\\\n",
       "3.00000000000000 & 5.00000000000000 \\\\\n",
       "-1.00000000000000 & 6.00000000000000\n",
       "\\end{array}\\right)$"
      ],
      "text/plain": [
       "[ 4.00000000000000  2.00000000000000]\n",
       "[ 3.00000000000000  5.00000000000000]\n",
       "[-1.00000000000000  6.00000000000000]"
      ]
     },
     "execution_count": 64,
     "metadata": {},
     "output_type": "execute_result"
    }
   ],
   "source": [
    "B.transpose()"
   ]
  },
  {
   "cell_type": "code",
   "execution_count": 65,
   "metadata": {
    "scrolled": true
   },
   "outputs": [],
   "source": [
    "E = A + D"
   ]
  },
  {
   "cell_type": "code",
   "execution_count": 66,
   "metadata": {},
   "outputs": [
    {
     "data": {
      "text/html": [
       "<html>\\(\\displaystyle \\left(\\begin{array}{rrr}\n",
       "1 & 3 & 5 \\\\\n",
       "4 & 4 & 4 \\\\\n",
       "3 & 4 & 5\n",
       "\\end{array}\\right)\\)</html>"
      ],
      "text/latex": [
       "$\\displaystyle \\left(\\begin{array}{rrr}\n",
       "1 & 3 & 5 \\\\\n",
       "4 & 4 & 4 \\\\\n",
       "3 & 4 & 5\n",
       "\\end{array}\\right)$"
      ],
      "text/plain": [
       "[1 3 5]\n",
       "[4 4 4]\n",
       "[3 4 5]"
      ]
     },
     "execution_count": 66,
     "metadata": {},
     "output_type": "execute_result"
    }
   ],
   "source": [
    "E"
   ]
  },
  {
   "cell_type": "code",
   "execution_count": 67,
   "metadata": {},
   "outputs": [
    {
     "ename": "ZeroDivisionError",
     "evalue": "input matrix must be nonsingular",
     "output_type": "error",
     "traceback": [
      "\u001b[0;31m---------------------------------------------------------------------------\u001b[0m",
      "\u001b[0;31mZeroDivisionError\u001b[0m                         Traceback (most recent call last)",
      "Input \u001b[0;32mIn [67]\u001b[0m, in \u001b[0;36m<cell line: 1>\u001b[0;34m()\u001b[0m\n\u001b[0;32m----> 1\u001b[0m \u001b[43mE\u001b[49m\u001b[38;5;241;43m.\u001b[39;49m\u001b[43minverse\u001b[49m\u001b[43m(\u001b[49m\u001b[43m)\u001b[49m\n",
      "File \u001b[0;32m/usr/lib/python3.10/site-packages/sage/matrix/matrix_rational_dense.pyx:748\u001b[0m, in \u001b[0;36msage.matrix.matrix_rational_dense.Matrix_rational_dense.inverse (build/cythonized/sage/matrix/matrix_rational_dense.cpp:9058)\u001b[0;34m()\u001b[0m\n\u001b[1;32m    746\u001b[0m \n\u001b[1;32m    747\u001b[0m         if algorithm == \"flint\":\n\u001b[0;32m--> 748\u001b[0m             return self._invert_flint()\n\u001b[1;32m    749\u001b[0m         elif algorithm == \"pari\":\n\u001b[1;32m    750\u001b[0m             try:\n",
      "File \u001b[0;32m/usr/lib/python3.10/site-packages/sage/matrix/matrix_rational_dense.pyx:651\u001b[0m, in \u001b[0;36msage.matrix.matrix_rational_dense.Matrix_rational_dense._invert_flint (build/cythonized/sage/matrix/matrix_rational_dense.cpp:8784)\u001b[0;34m()\u001b[0m\n\u001b[1;32m    649\u001b[0m sig_off()\n\u001b[1;32m    650\u001b[0m if ret == 0:\n\u001b[0;32m--> 651\u001b[0m     raise ZeroDivisionError(\"input matrix must be nonsingular\")\n\u001b[1;32m    652\u001b[0m return ans\n\u001b[1;32m    653\u001b[0m \n",
      "\u001b[0;31mZeroDivisionError\u001b[0m: input matrix must be nonsingular"
     ]
    }
   ],
   "source": [
    "E.inverse()"
   ]
  },
  {
   "cell_type": "code",
   "execution_count": 76,
   "metadata": {},
   "outputs": [],
   "source": [
    "F = matrix([[3,1,3], [2, -1, 2], [2, 0 , 0]])"
   ]
  },
  {
   "cell_type": "code",
   "execution_count": 77,
   "metadata": {},
   "outputs": [
    {
     "data": {
      "text/html": [
       "<html>\\(\\displaystyle \\left(\\begin{array}{rrr}\n",
       "0 & 0 & \\frac{1}{2} \\\\\n",
       "\\frac{2}{5} & -\\frac{3}{5} & 0 \\\\\n",
       "\\frac{1}{5} & \\frac{1}{5} & -\\frac{1}{2}\n",
       "\\end{array}\\right)\\)</html>"
      ],
      "text/latex": [
       "$\\displaystyle \\left(\\begin{array}{rrr}\n",
       "0 & 0 & \\frac{1}{2} \\\\\n",
       "\\frac{2}{5} & -\\frac{3}{5} & 0 \\\\\n",
       "\\frac{1}{5} & \\frac{1}{5} & -\\frac{1}{2}\n",
       "\\end{array}\\right)$"
      ],
      "text/plain": [
       "[   0    0  1/2]\n",
       "[ 2/5 -3/5    0]\n",
       "[ 1/5  1/5 -1/2]"
      ]
     },
     "execution_count": 77,
     "metadata": {},
     "output_type": "execute_result"
    }
   ],
   "source": [
    "F.inverse()"
   ]
  },
  {
   "cell_type": "code",
   "execution_count": 78,
   "metadata": {},
   "outputs": [
    {
     "data": {
      "text/html": [
       "<html>\\(\\displaystyle \\left(\\begin{array}{rrr}\n",
       "19 & -2 & 9 \\\\\n",
       "28 & 0 & 20 \\\\\n",
       "27 & -1 & 17\n",
       "\\end{array}\\right)\\)</html>"
      ],
      "text/latex": [
       "$\\displaystyle \\left(\\begin{array}{rrr}\n",
       "19 & -2 & 9 \\\\\n",
       "28 & 0 & 20 \\\\\n",
       "27 & -1 & 17\n",
       "\\end{array}\\right)$"
      ],
      "text/plain": [
       "[19 -2  9]\n",
       "[28  0 20]\n",
       "[27 -1 17]"
      ]
     },
     "execution_count": 78,
     "metadata": {},
     "output_type": "execute_result"
    }
   ],
   "source": [
    "E * F"
   ]
  },
  {
   "cell_type": "code",
   "execution_count": 79,
   "metadata": {},
   "outputs": [
    {
     "data": {
      "text/html": [
       "<html>\\(\\displaystyle \\left(\\begin{array}{rrr}\n",
       "16 & 25 & 34 \\\\\n",
       "4 & 10 & 16 \\\\\n",
       "2 & 6 & 10\n",
       "\\end{array}\\right)\\)</html>"
      ],
      "text/latex": [
       "$\\displaystyle \\left(\\begin{array}{rrr}\n",
       "16 & 25 & 34 \\\\\n",
       "4 & 10 & 16 \\\\\n",
       "2 & 6 & 10\n",
       "\\end{array}\\right)$"
      ],
      "text/plain": [
       "[16 25 34]\n",
       "[ 4 10 16]\n",
       "[ 2  6 10]"
      ]
     },
     "execution_count": 79,
     "metadata": {},
     "output_type": "execute_result"
    }
   ],
   "source": [
    "F * E"
   ]
  },
  {
   "cell_type": "code",
   "execution_count": 80,
   "metadata": {},
   "outputs": [
    {
     "data": {
      "text/html": [
       "<html>\\(\\displaystyle \\left(\\begin{array}{rrr}\n",
       "1 & 4 & 3 \\\\\n",
       "3 & 4 & 4 \\\\\n",
       "5 & 4 & 5\n",
       "\\end{array}\\right)\\)</html>"
      ],
      "text/latex": [
       "$\\displaystyle \\left(\\begin{array}{rrr}\n",
       "1 & 4 & 3 \\\\\n",
       "3 & 4 & 4 \\\\\n",
       "5 & 4 & 5\n",
       "\\end{array}\\right)$"
      ],
      "text/plain": [
       "[1 4 3]\n",
       "[3 4 4]\n",
       "[5 4 5]"
      ]
     },
     "execution_count": 80,
     "metadata": {},
     "output_type": "execute_result"
    }
   ],
   "source": [
    "E.T"
   ]
  },
  {
   "cell_type": "code",
   "execution_count": 81,
   "metadata": {},
   "outputs": [
    {
     "data": {
      "text/html": [
       "<html>\\(\\displaystyle 0\\)</html>"
      ],
      "text/latex": [
       "$\\displaystyle 0$"
      ],
      "text/plain": [
       "0"
      ]
     },
     "execution_count": 81,
     "metadata": {},
     "output_type": "execute_result"
    }
   ],
   "source": [
    "E.determinant()"
   ]
  },
  {
   "cell_type": "code",
   "execution_count": 82,
   "metadata": {},
   "outputs": [
    {
     "data": {
      "text/html": [
       "<html>\\(\\displaystyle 0\\)</html>"
      ],
      "text/latex": [
       "$\\displaystyle 0$"
      ],
      "text/plain": [
       "0"
      ]
     },
     "execution_count": 82,
     "metadata": {},
     "output_type": "execute_result"
    }
   ],
   "source": [
    "E.det()"
   ]
  },
  {
   "cell_type": "code",
   "execution_count": 83,
   "metadata": {},
   "outputs": [
    {
     "data": {
      "text/html": [
       "<html>\\(\\displaystyle 0\\)</html>"
      ],
      "text/latex": [
       "$\\displaystyle 0$"
      ],
      "text/plain": [
       "0"
      ]
     },
     "execution_count": 83,
     "metadata": {},
     "output_type": "execute_result"
    }
   ],
   "source": [
    "A.det()"
   ]
  },
  {
   "cell_type": "code",
   "execution_count": 84,
   "metadata": {},
   "outputs": [
    {
     "ename": "ZeroDivisionError",
     "evalue": "matrix must be nonsingular",
     "output_type": "error",
     "traceback": [
      "\u001b[0;31m---------------------------------------------------------------------------\u001b[0m",
      "\u001b[0;31mZeroDivisionError\u001b[0m                         Traceback (most recent call last)",
      "Input \u001b[0;32mIn [84]\u001b[0m, in \u001b[0;36m<cell line: 1>\u001b[0;34m()\u001b[0m\n\u001b[0;32m----> 1\u001b[0m \u001b[43mA\u001b[49m\u001b[38;5;241;43m.\u001b[39;49m\u001b[43minverse\u001b[49m\u001b[43m(\u001b[49m\u001b[43m)\u001b[49m\n",
      "File \u001b[0;32m/usr/lib/python3.10/site-packages/sage/matrix/matrix2.pyx:9858\u001b[0m, in \u001b[0;36msage.matrix.matrix2.Matrix.inverse (build/cythonized/sage/matrix/matrix2.c:70815)\u001b[0;34m()\u001b[0m\n\u001b[1;32m   9856\u001b[0m \n\u001b[1;32m   9857\u001b[0m         \"\"\"\n\u001b[0;32m-> 9858\u001b[0m         return ~self\n\u001b[1;32m   9859\u001b[0m \n\u001b[1;32m   9860\u001b[0m     def adjugate(self):\n",
      "File \u001b[0;32m/usr/lib/python3.10/site-packages/sage/matrix/matrix_integer_dense.pyx:4115\u001b[0m, in \u001b[0;36msage.matrix.matrix_integer_dense.Matrix_integer_dense.__invert__ (build/cythonized/sage/matrix/matrix_integer_dense.cpp:34259)\u001b[0;34m()\u001b[0m\n\u001b[1;32m   4113\u001b[0m     ZeroDivisionError: matrix must be nonsingular\n\u001b[1;32m   4114\u001b[0m \"\"\"\n\u001b[0;32m-> 4115\u001b[0m A, d = self._invert_flint()\n\u001b[1;32m   4116\u001b[0m return A / d\n\u001b[1;32m   4117\u001b[0m \n",
      "File \u001b[0;32m/usr/lib/python3.10/site-packages/sage/matrix/matrix_integer_dense.pyx:4076\u001b[0m, in \u001b[0;36msage.matrix.matrix_integer_dense.Matrix_integer_dense._invert_flint (build/cythonized/sage/matrix/matrix_integer_dense.cpp:34095)\u001b[0;34m()\u001b[0m\n\u001b[1;32m   4074\u001b[0m fmpz_clear(fden)\n\u001b[1;32m   4075\u001b[0m if res == 0:\n\u001b[0;32m-> 4076\u001b[0m     raise ZeroDivisionError('matrix must be nonsingular')\n\u001b[1;32m   4077\u001b[0m if den < 0:\n\u001b[1;32m   4078\u001b[0m     return -M, -den\n",
      "\u001b[0;31mZeroDivisionError\u001b[0m: matrix must be nonsingular"
     ]
    }
   ],
   "source": [
    "A.inverse()"
   ]
  },
  {
   "cell_type": "markdown",
   "metadata": {},
   "source": [
    "También calcula el Permanente:"
   ]
  },
  {
   "cell_type": "code",
   "execution_count": 85,
   "metadata": {},
   "outputs": [
    {
     "data": {
      "text/html": [
       "<html>\\(\\displaystyle 26\\)</html>"
      ],
      "text/latex": [
       "$\\displaystyle 26$"
      ],
      "text/plain": [
       "26"
      ]
     },
     "execution_count": 85,
     "metadata": {},
     "output_type": "execute_result"
    }
   ],
   "source": [
    "A.permanent()"
   ]
  },
  {
   "cell_type": "code",
   "execution_count": 86,
   "metadata": {},
   "outputs": [
    {
     "data": {
      "text/html": [
       "<html>\\(\\displaystyle 272\\)</html>"
      ],
      "text/latex": [
       "$\\displaystyle 272$"
      ],
      "text/plain": [
       "272"
      ]
     },
     "execution_count": 86,
     "metadata": {},
     "output_type": "execute_result"
    }
   ],
   "source": [
    "E.permanent()"
   ]
  },
  {
   "cell_type": "markdown",
   "metadata": {},
   "source": [
    "### Resolvamos el ejercicio 2 del parcial:\n",
    "\n",
    "Sea la matriz $D=\\begin{pmatrix} 3 & m & m \\\\ 1 & -1 & 0 \\\\ 3 & -2 & 0  \\end{pmatrix}$.\n",
    "\n",
    "a) Calcule los valores de $m$ para que tenga inversa. \n",
    "\n",
    "b) Haciendo $m = 1$, resuelva la ecuaci\\'on matricial $D^T(XD-3D) = I_3$ donde $I_3$ es la matriz identidad de orden $3$.\n",
    "\n",
    "*Observación: lo que sea cómputo lo haremos con SageMath, las demás deducciones las hacemos a mano, como deberían haberlo hecho en el parcial*."
   ]
  },
  {
   "cell_type": "code",
   "execution_count": 87,
   "metadata": {},
   "outputs": [],
   "source": [
    "m = var(\"m\")\n",
    "D = matrix(SR, 3,3,[ [3, m, m], [1, -1, 0], [3, -2, 0]])"
   ]
  },
  {
   "cell_type": "code",
   "execution_count": 88,
   "metadata": {},
   "outputs": [
    {
     "data": {
      "text/html": [
       "<html>\\(\\displaystyle \\left(\\begin{array}{rrr}\n",
       "3 & m & m \\\\\n",
       "1 & -1 & 0 \\\\\n",
       "3 & -2 & 0\n",
       "\\end{array}\\right)\\)</html>"
      ],
      "text/latex": [
       "$\\displaystyle \\left(\\begin{array}{rrr}\n",
       "3 & m & m \\\\\n",
       "1 & -1 & 0 \\\\\n",
       "3 & -2 & 0\n",
       "\\end{array}\\right)$"
      ],
      "text/plain": [
       "[ 3  m  m]\n",
       "[ 1 -1  0]\n",
       "[ 3 -2  0]"
      ]
     },
     "execution_count": 88,
     "metadata": {},
     "output_type": "execute_result"
    }
   ],
   "source": [
    "D"
   ]
  },
  {
   "cell_type": "code",
   "execution_count": 89,
   "metadata": {},
   "outputs": [
    {
     "data": {
      "text/html": [
       "<html>\\(\\displaystyle m\\)</html>"
      ],
      "text/latex": [
       "$\\displaystyle m$"
      ],
      "text/plain": [
       "m"
      ]
     },
     "execution_count": 89,
     "metadata": {},
     "output_type": "execute_result"
    }
   ],
   "source": [
    "D.determinant()"
   ]
  },
  {
   "cell_type": "code",
   "execution_count": 92,
   "metadata": {},
   "outputs": [
    {
     "data": {
      "text/html": [
       "<html>\\(\\displaystyle \\left[m = 0\\right]\\)</html>"
      ],
      "text/latex": [
       "$\\displaystyle \\left[m = 0\\right]$"
      ],
      "text/plain": [
       "[m == 0]"
      ]
     },
     "execution_count": 92,
     "metadata": {},
     "output_type": "execute_result"
    }
   ],
   "source": [
    "solve(D.determinant()==0, m)"
   ]
  },
  {
   "cell_type": "code",
   "execution_count": 98,
   "metadata": {},
   "outputs": [],
   "source": [
    "D1 = D.subs(m = 1)"
   ]
  },
  {
   "cell_type": "code",
   "execution_count": 99,
   "metadata": {},
   "outputs": [
    {
     "data": {
      "text/html": [
       "<html>\\(\\displaystyle \\left(\\begin{array}{rrr}\n",
       "3 & m & m \\\\\n",
       "1 & -1 & 0 \\\\\n",
       "3 & -2 & 0\n",
       "\\end{array}\\right)\\)</html>"
      ],
      "text/latex": [
       "$\\displaystyle \\left(\\begin{array}{rrr}\n",
       "3 & m & m \\\\\n",
       "1 & -1 & 0 \\\\\n",
       "3 & -2 & 0\n",
       "\\end{array}\\right)$"
      ],
      "text/plain": [
       "[ 3  m  m]\n",
       "[ 1 -1  0]\n",
       "[ 3 -2  0]"
      ]
     },
     "execution_count": 99,
     "metadata": {},
     "output_type": "execute_result"
    }
   ],
   "source": [
    "D"
   ]
  },
  {
   "cell_type": "code",
   "execution_count": 100,
   "metadata": {},
   "outputs": [
    {
     "data": {
      "text/html": [
       "<html>\\(\\displaystyle \\left(\\begin{array}{rrr}\n",
       "3 & 1 & 1 \\\\\n",
       "1 & -1 & 0 \\\\\n",
       "3 & -2 & 0\n",
       "\\end{array}\\right)\\)</html>"
      ],
      "text/latex": [
       "$\\displaystyle \\left(\\begin{array}{rrr}\n",
       "3 & 1 & 1 \\\\\n",
       "1 & -1 & 0 \\\\\n",
       "3 & -2 & 0\n",
       "\\end{array}\\right)$"
      ],
      "text/plain": [
       "[ 3  1  1]\n",
       "[ 1 -1  0]\n",
       "[ 3 -2  0]"
      ]
     },
     "execution_count": 100,
     "metadata": {},
     "output_type": "execute_result"
    }
   ],
   "source": [
    "D1"
   ]
  },
  {
   "cell_type": "markdown",
   "metadata": {},
   "source": [
    "Resolvamos ahora la ecuación matricial a mano, para luego hacer las cuentas necesarias."
   ]
  },
  {
   "cell_type": "markdown",
   "metadata": {},
   "source": [
    "$𝐷^t(𝑋𝐷−3𝐷)=𝐼_3 \\\\   (X-3I_3)D = (𝐷^t)^{-1} \\\\ X - 3I_3 = (𝐷^t)^{-1}𝐷^{-1} = (D𝐷^t)^{-1}  \\\\ X = (D𝐷^t)^{-1} + 3I_3 $ "
   ]
  },
  {
   "cell_type": "code",
   "execution_count": 103,
   "metadata": {},
   "outputs": [],
   "source": [
    "X = (D1 * D1.transpose()).inverse() + 3 * identity_matrix(3)"
   ]
  },
  {
   "cell_type": "code",
   "execution_count": 104,
   "metadata": {},
   "outputs": [
    {
     "data": {
      "text/html": [
       "<html>\\(\\displaystyle \\left(\\begin{array}{rrr}\n",
       "4 & 9 & -4 \\\\\n",
       "9 & 97 & -41 \\\\\n",
       "-4 & -41 & 21\n",
       "\\end{array}\\right)\\)</html>"
      ],
      "text/latex": [
       "$\\displaystyle \\left(\\begin{array}{rrr}\n",
       "4 & 9 & -4 \\\\\n",
       "9 & 97 & -41 \\\\\n",
       "-4 & -41 & 21\n",
       "\\end{array}\\right)$"
      ],
      "text/plain": [
       "[  4   9  -4]\n",
       "[  9  97 -41]\n",
       "[ -4 -41  21]"
      ]
     },
     "execution_count": 104,
     "metadata": {},
     "output_type": "execute_result"
    }
   ],
   "source": [
    "X"
   ]
  },
  {
   "cell_type": "markdown",
   "metadata": {},
   "source": [
    "## 4. Un poco más de matrices.\n",
    "\n",
    "En el capítulo próximo de Sistemas de Ecuaciones veremos una serie de matrices relacionadas con las llamadas operaciones elementales por fila que nos serán de gran utilidad. Así que adelantamos un poco los comandos que quizás usemos."
   ]
  },
  {
   "cell_type": "code",
   "execution_count": 105,
   "metadata": {},
   "outputs": [],
   "source": [
    "m = identity_matrix(3)"
   ]
  },
  {
   "cell_type": "code",
   "execution_count": 106,
   "metadata": {},
   "outputs": [
    {
     "data": {
      "text/html": [
       "<html>\\(\\displaystyle \\left(\\begin{array}{rrr}\n",
       "1 & 0 & 0 \\\\\n",
       "0 & 1 & 0 \\\\\n",
       "0 & 0 & 1\n",
       "\\end{array}\\right)\\)</html>"
      ],
      "text/latex": [
       "$\\displaystyle \\left(\\begin{array}{rrr}\n",
       "1 & 0 & 0 \\\\\n",
       "0 & 1 & 0 \\\\\n",
       "0 & 0 & 1\n",
       "\\end{array}\\right)$"
      ],
      "text/plain": [
       "[1 0 0]\n",
       "[0 1 0]\n",
       "[0 0 1]"
      ]
     },
     "execution_count": 106,
     "metadata": {},
     "output_type": "execute_result"
    }
   ],
   "source": [
    "m"
   ]
  },
  {
   "cell_type": "markdown",
   "metadata": {},
   "source": [
    "A partir de la matriz identidad 3x3 nos armamos una que tiene una fila más al final:"
   ]
  },
  {
   "cell_type": "code",
   "execution_count": null,
   "metadata": {},
   "outputs": [],
   "source": [
    "m2= m.insert_row(3, [1,2,3])"
   ]
  },
  {
   "cell_type": "code",
   "execution_count": null,
   "metadata": {},
   "outputs": [],
   "source": [
    "m2"
   ]
  },
  {
   "cell_type": "markdown",
   "metadata": {},
   "source": [
    "Si queremos agregar una fila luego de la segunda fila tenemos que avisarle al comando insert_row."
   ]
  },
  {
   "cell_type": "code",
   "execution_count": null,
   "metadata": {},
   "outputs": [],
   "source": [
    "m.insert_row(2, [1,2,3])"
   ]
  },
  {
   "cell_type": "markdown",
   "metadata": {},
   "source": [
    "Y si la quisiéramos arriba de todo? Recordemos que Sage cuenta desde 0!!"
   ]
  },
  {
   "cell_type": "code",
   "execution_count": null,
   "metadata": {},
   "outputs": [],
   "source": [
    "m.insert_row(0,[1,2,3])"
   ]
  },
  {
   "cell_type": "markdown",
   "metadata": {},
   "source": [
    "Para intercambiar filas podemos usar swap_row, RECORRRRDANDO que empezamos a contar desde 0. OJO porque te las cambia para siempre."
   ]
  },
  {
   "cell_type": "code",
   "execution_count": null,
   "metadata": {},
   "outputs": [],
   "source": [
    "m.swap_rows(1,2); m"
   ]
  },
  {
   "cell_type": "code",
   "execution_count": null,
   "metadata": {},
   "outputs": [],
   "source": [
    "m.swap_columns(0,2); m"
   ]
  },
  {
   "cell_type": "code",
   "execution_count": null,
   "metadata": {},
   "outputs": [],
   "source": [
    "m"
   ]
  },
  {
   "cell_type": "markdown",
   "metadata": {},
   "source": [
    "Bueno, muchas cosas más, muchísimas, se pueden hacer (trabajar con matrices por bloques, calcular kernel, rango, autovalores, autovectores, subdividir, en fin, sólo basta con googlear lo que uno anda necesitando y ver qué encuentra.\n",
    "\n",
    "Ojalá les sirva. Nos vemos en el siguiente laboratorio."
   ]
  }
 ],
 "metadata": {
  "kernelspec": {
   "display_name": "SageMath 9.5",
   "language": "sage",
   "name": "sagemath"
  },
  "language_info": {
   "codemirror_mode": {
    "name": "ipython",
    "version": 3
   },
   "file_extension": ".py",
   "mimetype": "text/x-python",
   "name": "python",
   "nbconvert_exporter": "python",
   "pygments_lexer": "ipython3",
   "version": "3.10.6"
  }
 },
 "nbformat": 4,
 "nbformat_minor": 2
}
