{
 "cells": [
  {
   "cell_type": "code",
   "execution_count": null,
   "metadata": {},
   "outputs": [],
   "source": [
    "%display latex"
   ]
  },
  {
   "cell_type": "markdown",
   "metadata": {},
   "source": [
    "# 10 Paraboloides elítpicos.\n",
    "\n",
    "\n",
    "Estudiaremos ahora ecuaciones del tipo \n",
    "## \\begin{align*} &\\frac{(x-x_0)^2}{a^2}+\\frac{(y-y_0)^{2}}{b^2}-\\frac{z-z_0}{c}=0, \\\\ &\\frac{(x-x_0)^2}{a^2}-\\frac{y-y_0}{b}+\\frac{(z-z_0)^{2}}{c^{2}}=0, \\\\ &-\\frac{x-x_0}{a}+\\frac{(y-y_0)^{2}}{b^2}+\\frac{(z-z_0)^{2}}{c^{2}}=0, \\end{align*}\n",
    "con $(a,b,c)\\neq \\overline{0}$ que son las superficies cuádricas llamadas paraboloides elípticos. \n",
    "\n",
    "Observemos que estas ecuaciones constan de tres términos: dos cuadráticos acompañados con coeficientes del mismo signo y uno lineal (y tendremos que tener en cuenta en el análisis siguiente el signo del coeficiente que lo acompaña).\n",
    "\n",
    "Nuevamente, consideramos un ejemplo para estudiarlo:\n",
    "Para ilustrar un poco la mecánica del estudio, consideraremos un ejemplo:\n",
    "$$\\frac{(x-1)^2}{4}+\\frac{(y+2)^{2}}{5}-\\frac{z-2}{3}=0.$$\n",
    "\n",
    "Su centro de simetría es el punto C(1,-2,2). Observemos que este punto pertenece a la superficie."
   ]
  },
  {
   "cell_type": "code",
   "execution_count": null,
   "metadata": {},
   "outputs": [],
   "source": [
    "var('x,y,z')\n",
    "Cen = point3d((1,-2,2),color=(1,1,1),pointsize=30, axes=True, frame=True)\n",
    "planoxy= z\n",
    "planoxz= y\n",
    "planoyz= x\n",
    "GrafPlxy = implicit_plot3d(planoxy,(x,-5,5),(y,-5,5),(z,-5,5),color='blue',opacity=.125, axes=True, frame=False)\n",
    "GrafPlxz = implicit_plot3d(planoxz,(x,-5,5),(y,-5,5),(z,-5,5),color='green',opacity=.125, axes=True, frame=False)\n",
    "GrafPlyz = implicit_plot3d(planoyz,(x,-5,5),(y,-5,5),(z,-5,5),color='red',opacity=.125, axes=True, frame=False)\n",
    "PlsCoords = GrafPlxy + GrafPlxz + GrafPlyz"
   ]
  },
  {
   "cell_type": "markdown",
   "metadata": {},
   "source": [
    "Ahora ingresamos nuestra superficie:"
   ]
  },
  {
   "cell_type": "code",
   "execution_count": null,
   "metadata": {},
   "outputs": [],
   "source": [
    "Cuad = (x-1)^2/4 + ((y+2)^2)/5 - (z-2)/3\n",
    "show(Cuad)"
   ]
  },
  {
   "cell_type": "markdown",
   "metadata": {},
   "source": [
    "Con el plano $x=1$ tenemos: \n",
    "\\begin{align*}\n",
    "& \\left\\{ \\begin{array}{l} \\frac{(x-1)^2}{4}+\\frac{(y+2)^{2}}{5}-\\frac{z-2}{3}=0 \\\\ x=1 \\end{array} \\right. \\\\\n",
    "& \\left\\{ \\begin{array}{l} \\frac{(y+2)^{2}}{5}=\\frac{z-2}{3} \\\\ x=1 \\end{array} \\right.\n",
    "\\end{align*}\n",
    "que es una parábola de eje de simetría paralelo al eje z y vértice $C$, y en este caso se encuentra en el semiespacio $z>2$. Hagamos el análisis habitual con planos paralelos al plano $x=1$:\n",
    "\n",
    "\\begin{align*}\n",
    "& \\left\\{ \\begin{array}{l} \\frac{(x-1)^2}{4}+\\frac{(y+2)^{2}}{5}-\\frac{z-2}{3}=0 \\\\ x=k \\end{array} \\right. \\\\\n",
    "& \\left\\{ \\begin{array}{l} \\frac{(y+2)^{2}}{5}-\\frac{z-2}{3}=-\\frac{(k-1)^2}{4} \\\\ x=k \\end{array} \\right.\n",
    "\\end{align*}\n",
    "\n",
    "que son todas parábolas con eje de simetría paralelos al eje z, cuyos vértices van variando de acuerdo a $k$ (EJERCICIO: determinar para cada valor de $k\\in\\mathbb{R}$ las coordenadas de los vértices de cada parábola). Todas las parábolas se encuentran en el semiespacio $z>2$ (es decir, no hay cambio en la dirección de crecimiento de sus ramas)."
   ]
  },
  {
   "cell_type": "code",
   "execution_count": null,
   "metadata": {},
   "outputs": [],
   "source": [
    "CuadINTPlx1 = implicit_plot3d( Cuad == 0 , (x,.99,1.00), (y,-5,5), (z,-5,5),  axes=True, frame=False )"
   ]
  },
  {
   "cell_type": "code",
   "execution_count": null,
   "metadata": {},
   "outputs": [],
   "source": [
    "CuadINTPlxm15 = implicit_plot3d( Cuad == 0 , (x,-1.5,-1.49), (y,-5,5), (z,-5,5), color='blue',  axes=True, frame=False )"
   ]
  },
  {
   "cell_type": "code",
   "execution_count": null,
   "metadata": {},
   "outputs": [],
   "source": [
    "CuadINTPlxm05 = implicit_plot3d( Cuad == 0 , (x,-.5,-.49), (y,-5,5), (z,-5,5), color='blue',  axes=True, frame=False )"
   ]
  },
  {
   "cell_type": "code",
   "execution_count": null,
   "metadata": {},
   "outputs": [],
   "source": [
    "CuadINTPlxm25 = implicit_plot3d( Cuad == 0 , (x,-2.5,-2.49), (y,-5,5), (z,-5,5), color='blue',  axes=True, frame=False )"
   ]
  },
  {
   "cell_type": "code",
   "execution_count": null,
   "metadata": {},
   "outputs": [],
   "source": [
    "CuadINTPlxm35 = implicit_plot3d( Cuad == 0 , (x,-3.5,-3.49), (y,-5,5), (z,-5,5), color='blue',  axes=True, frame=False )"
   ]
  },
  {
   "cell_type": "code",
   "execution_count": null,
   "metadata": {},
   "outputs": [],
   "source": [
    "CuadINTPlxm45 = implicit_plot3d( Cuad == 0 , (x,-4.5,-4.49), (y,-5,5), (z,-5,5), color='blue',  axes=True, frame=False )"
   ]
  },
  {
   "cell_type": "code",
   "execution_count": null,
   "metadata": {},
   "outputs": [],
   "source": [
    "CuadINTPlx0 = implicit_plot3d( Cuad == 0 , (x,-.01,0), (y,-5,5), (z,-5,5),  axes=True, frame=False )"
   ]
  },
  {
   "cell_type": "code",
   "execution_count": null,
   "metadata": {},
   "outputs": [],
   "source": [
    "CuadINTPlx25 = implicit_plot3d( Cuad == 0, (x,2.49,2.5), (y,-5,5), (z,-5,5),  axes=True, frame=False )"
   ]
  },
  {
   "cell_type": "code",
   "execution_count": null,
   "metadata": {},
   "outputs": [],
   "source": [
    "CuadINTPlx2 = implicit_plot3d( Cuad == 0 , (x,1.99,2), (y,-5,5), (z,-5,5),  axes=True, frame=False )"
   ]
  },
  {
   "cell_type": "code",
   "execution_count": null,
   "metadata": {},
   "outputs": [],
   "source": [
    "CuadINTPlx3 = implicit_plot3d( Cuad == 0 , (x,2.99,3.01), (y,-5,5), (z,-5,5),  axes=True, frame=False )"
   ]
  },
  {
   "cell_type": "code",
   "execution_count": null,
   "metadata": {},
   "outputs": [],
   "source": [
    "CuadINTPlx4 = implicit_plot3d( Cuad == 0 , (x,3.99,4.01), (y,-5,5), (z,-5,5),  axes=True, frame=False )"
   ]
  },
  {
   "cell_type": "code",
   "execution_count": null,
   "metadata": {},
   "outputs": [],
   "source": [
    "CuadINTPlx5 = implicit_plot3d( Cuad == 0 , (x,4.99,5.01), (y,-5,5), (z,-5,5),  axes=True, frame=False )"
   ]
  },
  {
   "cell_type": "code",
   "execution_count": null,
   "metadata": {},
   "outputs": [],
   "source": [
    "CuadINTPlx6 = implicit_plot3d( Cuad == 0 , (x,5.99,6), (y,-5,5), (z,-5,5),  axes=True, frame=False )"
   ]
  },
  {
   "cell_type": "code",
   "execution_count": null,
   "metadata": {},
   "outputs": [],
   "source": [
    "CuadINTPlsParalx1 = CuadINTPlx1 + CuadINTPlxm05 + CuadINTPlx0 + CuadINTPlx25 + CuadINTPlx2 + CuadINTPlx3 + CuadINTPlx4 + CuadINTPlx5 + CuadINTPlx6 + CuadINTPlxm15 + CuadINTPlxm25 + CuadINTPlxm35 + CuadINTPlxm45"
   ]
  },
  {
   "cell_type": "code",
   "execution_count": null,
   "metadata": {},
   "outputs": [],
   "source": [
    "show( CuadINTPlsParalx1 + PlsCoords + Cen)"
   ]
  },
  {
   "cell_type": "markdown",
   "metadata": {},
   "source": [
    "Con planos paralelos al plano $y=-2$ tenemos algo similar:\n",
    "\\begin{align*}\n",
    "& \\left\\{ \\begin{array}{l} \\frac{(x-1)^2}{4}+\\frac{(y+2)^{2}}{5}-\\frac{z-2}{3}=0 \\\\ y=k \\end{array} \\right. \\\\\n",
    "& \\left\\{ \\begin{array}{l} \\frac{(x-1)^2}{4}-\\frac{z-2}{3}=-\\frac{(k+2)^{2}}{5} \\\\ y=k \\end{array} \\right.\n",
    "\\end{align*} \n",
    "que son parábolas con ejes de simetría paralelos al eje x, se encuentran todas en el semiespacio $z>2$ y sus vértices se calculan de acuerdo al valor de $k\\in\\mathbb{R}$, siendo para $k=-2$ el punto $C$.\n"
   ]
  },
  {
   "cell_type": "code",
   "execution_count": null,
   "metadata": {},
   "outputs": [],
   "source": [
    "CuadINTPly15 = implicit_plot3d( Cuad == 0 , (x,-5,5), (y,1.49,1.51), (z,-5,5), color='red',  axes=True, frame=False )"
   ]
  },
  {
   "cell_type": "code",
   "execution_count": null,
   "metadata": {},
   "outputs": [],
   "source": [
    "CuadINTPly05 = implicit_plot3d( Cuad == 0 , (x,-5,5), (y,0.49,0.51), (z,-5,5), color='red',  axes=True, frame=False )"
   ]
  },
  {
   "cell_type": "code",
   "execution_count": null,
   "metadata": {},
   "outputs": [],
   "source": [
    "CuadINTPly0 = implicit_plot3d( Cuad == 0 , (x,-5,5), (y,-0.01,0), (z,-5,5), color='red',  axes=True, frame=False )"
   ]
  },
  {
   "cell_type": "code",
   "execution_count": null,
   "metadata": {},
   "outputs": [],
   "source": [
    "CuadINTPlym1 = implicit_plot3d( Cuad == 0 , (x,-5,5), (y,-1.01,-1), (z,-5,5), color='red', axes=True, frame=False )"
   ]
  },
  {
   "cell_type": "code",
   "execution_count": null,
   "metadata": {},
   "outputs": [],
   "source": [
    "CuadINTPlym2 =  implicit_plot3d( Cuad == 0, (x,-5,5), (y,-2.01,-2), (z,-5,5), color='red', axes=True, frame=False )"
   ]
  },
  {
   "cell_type": "code",
   "execution_count": null,
   "metadata": {},
   "outputs": [],
   "source": [
    "CuadINTPlym3 =  implicit_plot3d( Cuad == 0, (x,-5,5), (y,-3.01,-3), (z,-5,5), color='red', axes=True, frame=False )"
   ]
  },
  {
   "cell_type": "code",
   "execution_count": null,
   "metadata": {},
   "outputs": [],
   "source": [
    "CuadINTPlym4 =  implicit_plot3d( Cuad == 0, (x,-5,5), (y,-4.01,-4), (z,-5,5), color='red', axes=True, frame=False )"
   ]
  },
  {
   "cell_type": "code",
   "execution_count": null,
   "metadata": {},
   "outputs": [],
   "source": [
    "CuadINTPlym5 =  implicit_plot3d( Cuad == 0, (x,-5,5), (y,-5.01,-5), (z,-5,5), color='red', axes=True, frame=False )"
   ]
  },
  {
   "cell_type": "code",
   "execution_count": null,
   "metadata": {},
   "outputs": [],
   "source": [
    "CuadINTPlym6 =  implicit_plot3d( Cuad == 0, (x,-5,5), (y,-6.01,-6), (z,-5,5), color='red', axes=True, frame=False )"
   ]
  },
  {
   "cell_type": "code",
   "execution_count": null,
   "metadata": {},
   "outputs": [],
   "source": [
    "CuadINTPlsParalym2 = CuadINTPly0 + CuadINTPlym1 + CuadINTPlym2 + CuadINTPlym3 + CuadINTPlym4 + CuadINTPly05 + CuadINTPly15 + CuadINTPlym5 + CuadINTPlym6"
   ]
  },
  {
   "cell_type": "code",
   "execution_count": null,
   "metadata": {},
   "outputs": [],
   "source": [
    "show( CuadINTPlsParalym2 + PlsCoords + Cen)"
   ]
  },
  {
   "cell_type": "markdown",
   "metadata": {},
   "source": [
    "Finalmente vamos con los planos paralelos al plano z=2.\n",
    "\n",
    "Con planos paralelos al plano $z=2$ resulta:\n",
    "\\begin{align*}\n",
    "& \\left\\{ \\begin{array}{l} \\frac{(x-1)^2}{4}+\\frac{(y+2)^{2}}{5}-\\frac{z-2}{3}=0 \\\\ z=k \\end{array} \\right. \\\\\n",
    "& \\left\\{ \\begin{array}{l} \\frac{(x-1)^2}{4}+\\frac{(y+2)^{2}}{5}=\\frac{k-2}{3} \\\\ z=k \\end{array} \\right.\n",
    "\\end{align*}\n",
    "que para $k=2$ resulta el punto $C$, que será el vértice del paraboloide elíptico, para $k>2$ tendremos elipses en el plano $z=k$ que van \"agrandando\" sus radios a medida que $k$ crece y para $k<2$ tendremos el conjunto vacío. Es decir, nuestra cuádrica se encuentra completamente en el semiespacio $z>2$."
   ]
  },
  {
   "cell_type": "code",
   "execution_count": null,
   "metadata": {},
   "outputs": [],
   "source": [
    "CuadINTPlz2 = implicit_plot3d( Cuad == 0 , (x,-5,5), (y,-5,5), (z,1.99,2), color='green', axes=True, frame=False )"
   ]
  },
  {
   "cell_type": "code",
   "execution_count": null,
   "metadata": {},
   "outputs": [],
   "source": [
    "CuadINTPlz3 = implicit_plot3d( Cuad == 0, (x,-5,5), (y,-5,5), (z,2.99,3), color='green',  axes=True, frame=False )"
   ]
  },
  {
   "cell_type": "code",
   "execution_count": null,
   "metadata": {},
   "outputs": [],
   "source": [
    "CuadINTPlz4 = implicit_plot3d( Cuad == 0, (x,-5,5), (y,-5,5), (z,3.99,4), color='green',  axes=True, frame=False )"
   ]
  },
  {
   "cell_type": "code",
   "execution_count": null,
   "metadata": {},
   "outputs": [],
   "source": [
    "CuadINTPlz1 = implicit_plot3d( Cuad == 0, (x,-5,5), (y,-5,5), (z,0.99,1), color='green',  axes=True, frame=False )"
   ]
  },
  {
   "cell_type": "code",
   "execution_count": null,
   "metadata": {},
   "outputs": [],
   "source": [
    "CuadINTPlz0 = implicit_plot3d( Cuad == 0, (x,-5,5), (y,-5,5), (z,.01,0), color='green',  axes=True, frame=False )"
   ]
  },
  {
   "cell_type": "code",
   "execution_count": null,
   "metadata": {},
   "outputs": [],
   "source": [
    " CuadINTPlsParalz2 = CuadINTPlz2 + CuadINTPlz3 + CuadINTPlz4 + CuadINTPlz1 + CuadINTPlz0"
   ]
  },
  {
   "cell_type": "code",
   "execution_count": null,
   "metadata": {},
   "outputs": [],
   "source": [
    "show( CuadINTPlsParalz2 + PlsCoords + Cen )"
   ]
  },
  {
   "cell_type": "markdown",
   "metadata": {},
   "source": [
    "Todas juntas ahora:"
   ]
  },
  {
   "cell_type": "code",
   "execution_count": null,
   "metadata": {},
   "outputs": [],
   "source": [
    "show( CuadINTPlsParalx1 + CuadINTPlsParalym2 + CuadINTPlsParalz2 + PlsCoords + Cen )"
   ]
  },
  {
   "cell_type": "markdown",
   "metadata": {},
   "source": [
    "Y para SAGE es así:"
   ]
  },
  {
   "cell_type": "code",
   "execution_count": null,
   "metadata": {},
   "outputs": [],
   "source": [
    "ParaboloideEliptico = implicit_plot3d( Cuad == 0, (x,-5,5), (y,-5,5), (z,-5,5), axes=True, frame=False, aspect_ratio = [1,1,1], color='purple')"
   ]
  },
  {
   "cell_type": "code",
   "execution_count": null,
   "metadata": {},
   "outputs": [],
   "source": [
    "show( ParaboloideEliptico )"
   ]
  },
  {
   "cell_type": "code",
   "execution_count": null,
   "metadata": {},
   "outputs": [],
   "source": [
    "show( ParaboloideEliptico + PlsCoords + Cen)"
   ]
  },
  {
   "cell_type": "markdown",
   "metadata": {},
   "source": [
    "\n",
    "\n",
    "-- Estas notebooks fueron confeccionadas para la asignatura Álgebra y Geometría Analítica II correspondiente al primer año de todas las carreras de la Escuela de Cs. Exactas y Naturales de la Facultad de Cs. Exactas, Ingeniería y Agrimensura.\n",
    "\n",
    "Las docentes responsables somos Isolda E. Cardoso (isolda@fceia.unr.edu.ar) y Paola Tolomei. Al año 2022 hemos recorrido un largo camino dictando esta asignatura, y entre otras cosas hemos ido perfeccionando los laboratorios. Quedarán permanentemente, junto con una compilación de notas del curso, en el repositorio https://github.com/IsoldaEugenia/AyGAII-2022\n",
    "\n",
    "En caso de reproducirlas, se solicita citar la fuente.\n"
   ]
  },
  {
   "cell_type": "code",
   "execution_count": null,
   "metadata": {},
   "outputs": [],
   "source": []
  }
 ],
 "metadata": {
  "kernelspec": {
   "display_name": "SageMath 9.3",
   "language": "sage",
   "name": "sagemath"
  },
  "language_info": {
   "codemirror_mode": {
    "name": "ipython",
    "version": 3
   },
   "file_extension": ".py",
   "mimetype": "text/x-python",
   "name": "python",
   "nbconvert_exporter": "python",
   "pygments_lexer": "ipython3",
   "version": "3.7.10"
  }
 },
 "nbformat": 4,
 "nbformat_minor": 2
}
