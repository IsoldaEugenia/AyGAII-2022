{
 "cells": [
  {
   "cell_type": "code",
   "execution_count": null,
   "metadata": {},
   "outputs": [],
   "source": [
    "%display latex"
   ]
  },
  {
   "cell_type": "markdown",
   "metadata": {},
   "source": [
    "# 9 Conos elípticos.\n",
    "\n",
    "\n",
    "Estudiaremos ahora ecuaciones del tipo \n",
    "## \\begin{align*} &\\frac{(x-x_0)^2}{a^2}+\\frac{(y-y_0)^{2}}{b^2}-\\frac{(z-z_0)^{2}}{c^{2}}=0, \\\\ &\\frac{(x-x_0)^2}{a^2}-\\frac{(y-y_0)^{2}}{b^2}+\\frac{(z-z_0)^{2}}{c^{2}}=0, \\\\ &-\\frac{(x-x_0)^2}{a^2}+\\frac{(y-y_0)^{2}}{b^2}+\\frac{(z-z_0)^{2}}{c^{2}}=0, \\end{align*}\n",
    "con $(a,b,c)\\neq \\overline{0}$ que son las superficies llamadas conos elípticos. \n",
    "\n",
    "Observemos que estas ecuaciones tienen la particularidad de que uno de los coeficientes que acompaña a los términos cuadráticos es negativo y los otros dos son positivo, y su término independiente es cero (queda entonces cubierto el caso de dos coeficientes negativos y uno positivo, ¿porqué?).\n",
    "\n",
    "Nuevamente, consideramos un ejemplo para estudiarlo:\n",
    "Para ilustrar un poco la mecánica del estudio, consideraremos un ejemplo:\n",
    "$$\\frac{(x-1)^2}{4}+\\frac{(y+2)^{2}}{5}-\\frac{(z-2)^{2}}{9}=0.$$\n",
    "\n",
    "Su centro de simetría es el punto C(1,-2,2). Observemos que este punto pertenece a la superficie."
   ]
  },
  {
   "cell_type": "markdown",
   "metadata": {},
   "source": [
    "Aclaración: los conos no forman parte de las superficies cuádricas, sino que son parte de las denominadas superficies cónicas. Las superficies cónicas se generan a partir de un punto fijo y una curva plana (llamada directriz) que no pase por ese punto, considerando el haz de rectas que pasa por el punto e interseca la directriz. Cada una de estas rectas se llama generatriz. Más adelante volveremos sobre este tema.\n",
    "\n",
    "Un cono elíptico es un cono particular, para el cual la directriz es una elipse."
   ]
  },
  {
   "cell_type": "code",
   "execution_count": null,
   "metadata": {},
   "outputs": [],
   "source": [
    "var('x,y,z')\n",
    "Cen = point3d((1,-2,2),color=(1,1,1),pointsize=30, axes=True, frame=True)\n",
    "planoxy= z\n",
    "planoxz= y\n",
    "planoyz= x\n",
    "GrafPlxy = implicit_plot3d(planoxy,(x,-5,5),(y,-5,5),(z,-5,5),color='blue',opacity=.125, axes=True, frame=False)\n",
    "GrafPlxz = implicit_plot3d(planoxz,(x,-5,5),(y,-5,5),(z,-5,5),color='green',opacity=.125, axes=True, frame=False)\n",
    "GrafPlyz = implicit_plot3d(planoyz,(x,-5,5),(y,-5,5),(z,-5,5),color='red',opacity=.125, axes=True, frame=False)\n",
    "PlsCoords = GrafPlxy + GrafPlxz + GrafPlyz"
   ]
  },
  {
   "cell_type": "markdown",
   "metadata": {},
   "source": [
    "Ahora ingresamos nuestra superficie:"
   ]
  },
  {
   "cell_type": "code",
   "execution_count": null,
   "metadata": {},
   "outputs": [],
   "source": [
    "Con = (x-1)^2/4 + ((y+2)^2)/5 - ((z-2)^2)/9\n",
    "show(Con)"
   ]
  },
  {
   "cell_type": "markdown",
   "metadata": {},
   "source": [
    "Con el plano $x=1$ tenemos: \n",
    "\\begin{align*}\n",
    "& \\left\\{ \\begin{array}{l} \\frac{(x-1)^2}{4}+\\frac{(y+2)^{2}}{5}-\\frac{(z-2)^{2}}{9}=0 \\\\ x=1 \\end{array} \\right. \\\\\n",
    "& \\left\\{ \\begin{array}{l} \\frac{(y+2)^{2}}{5}=\\frac{(z-2)^{2}}{9} \\\\ x=1 \\end{array} \\right.\n",
    "\\end{align*}\n",
    "\n",
    "que son dos rectas que se cortan en el punto $C$. Hagamos el análisis habitual con planos paralelos al plano $x=1$:\n",
    "\n",
    "\\begin{align*}\n",
    "& \\left\\{ \\begin{array}{l} \\frac{(x-1)^2}{4}+\\frac{(y+2)^{2}}{5}-\\frac{(z-2)^{2}}{9}=0 \\\\ x=k \\end{array} \\right. \\\\\n",
    "& \\left\\{ \\begin{array}{l} \\frac{(y+2)^{2}}{5}-\\frac{(z-2)^{2}}{9}=-\\frac{(k-1)^2}{4} \\\\ x=k \\end{array} \\right.\n",
    "\\end{align*}\n",
    "\n",
    "Luego si $k\\in\\mathbb{R}$ y $k\\neq 1$ entonces se trata de una hipérbola en el plano $x=k$ con eje focal el eje z (por el tema de los signos)."
   ]
  },
  {
   "cell_type": "code",
   "execution_count": null,
   "metadata": {},
   "outputs": [],
   "source": [
    "ConINTPlx1 = implicit_plot3d( Con == 0 , (x,.99,1.00), (y,-5,5), (z,-5,5),  axes=True, frame=False )"
   ]
  },
  {
   "cell_type": "code",
   "execution_count": null,
   "metadata": {
    "scrolled": true
   },
   "outputs": [],
   "source": [
    "show(ConINTPlx1)"
   ]
  },
  {
   "cell_type": "code",
   "execution_count": null,
   "metadata": {},
   "outputs": [],
   "source": [
    "ConINTPlxm15 = implicit_plot3d( Con == 0 , (x,-1.5,-1.49), (y,-5,5), (z,-5,5), color='blue',  axes=True, frame=False )"
   ]
  },
  {
   "cell_type": "code",
   "execution_count": null,
   "metadata": {},
   "outputs": [],
   "source": [
    "ConINTPlxm05 = implicit_plot3d( Con == 0 , (x,-.5,-.49), (y,-5,5), (z,-5,5), color='blue',  axes=True, frame=False )"
   ]
  },
  {
   "cell_type": "code",
   "execution_count": null,
   "metadata": {},
   "outputs": [],
   "source": [
    "ConINTPlxm25 = implicit_plot3d( Con == 0 , (x,-2.5,-2.49), (y,-5,5), (z,-5,5), color='blue',  axes=True, frame=False )"
   ]
  },
  {
   "cell_type": "code",
   "execution_count": null,
   "metadata": {},
   "outputs": [],
   "source": [
    "ConINTPlxm35 = implicit_plot3d( Con == 0 , (x,-3.5,-3.49), (y,-5,5), (z,-5,5), color='blue',  axes=True, frame=False )"
   ]
  },
  {
   "cell_type": "code",
   "execution_count": null,
   "metadata": {},
   "outputs": [],
   "source": [
    "ConINTPlxm45 = implicit_plot3d( Con == 0 , (x,-4.5,-4.49), (y,-5,5), (z,-5,5), color='blue',  axes=True, frame=False )"
   ]
  },
  {
   "cell_type": "code",
   "execution_count": null,
   "metadata": {},
   "outputs": [],
   "source": [
    "ConINTPlx0 = implicit_plot3d( Con == 0 , (x,-.01,0), (y,-5,5), (z,-5,5),  axes=True, frame=False )"
   ]
  },
  {
   "cell_type": "code",
   "execution_count": null,
   "metadata": {},
   "outputs": [],
   "source": [
    "ConINTPlx25 = implicit_plot3d( Con == 0, (x,2.49,2.5), (y,-5,5), (z,-5,5),  axes=True, frame=False )"
   ]
  },
  {
   "cell_type": "code",
   "execution_count": null,
   "metadata": {},
   "outputs": [],
   "source": [
    "ConINTPlx2 = implicit_plot3d( Con == 0 , (x,1.99,2), (y,-5,5), (z,-5,5),  axes=True, frame=False )"
   ]
  },
  {
   "cell_type": "code",
   "execution_count": null,
   "metadata": {},
   "outputs": [],
   "source": [
    "ConINTPlx3 = implicit_plot3d( Con == 0 , (x,2.99,3.01), (y,-5,5), (z,-5,5),  axes=True, frame=False )"
   ]
  },
  {
   "cell_type": "code",
   "execution_count": null,
   "metadata": {},
   "outputs": [],
   "source": [
    "ConINTPlx4 = implicit_plot3d( Con == 0 , (x,3.99,4.01), (y,-5,5), (z,-5,5),  axes=True, frame=False )"
   ]
  },
  {
   "cell_type": "code",
   "execution_count": null,
   "metadata": {},
   "outputs": [],
   "source": [
    "ConINTPlx5 = implicit_plot3d( Con == 0 , (x,4.99,5.01), (y,-5,5), (z,-5,5),  axes=True, frame=False )"
   ]
  },
  {
   "cell_type": "code",
   "execution_count": null,
   "metadata": {},
   "outputs": [],
   "source": [
    "ConINTPlx6 = implicit_plot3d( Con == 0 , (x,5.99,6), (y,-5,5), (z,-5,5),  axes=True, frame=False )"
   ]
  },
  {
   "cell_type": "code",
   "execution_count": null,
   "metadata": {},
   "outputs": [],
   "source": [
    "ConINTPlsParalx1 = ConINTPlx1 + ConINTPlxm05 + ConINTPlx0 + ConINTPlx25 + ConINTPlx2 + ConINTPlx3 + ConINTPlx4 + ConINTPlx5 + ConINTPlx6 + ConINTPlxm15 + ConINTPlxm25 + ConINTPlxm35 + ConINTPlxm45"
   ]
  },
  {
   "cell_type": "code",
   "execution_count": null,
   "metadata": {
    "scrolled": true
   },
   "outputs": [],
   "source": [
    "show( ConINTPlsParalx1 + PlsCoords + Cen)"
   ]
  },
  {
   "cell_type": "markdown",
   "metadata": {},
   "source": [
    "Con planos paralelos al plano $y=-2$ tenemos:\n",
    "\\begin{align*}\n",
    "& \\left\\{ \\begin{array}{l} \\frac{(x-1)^2}{4}+\\frac{(y+2)^{2}}{5}-\\frac{(z-2)^{2}}{9}=0 \\\\ y=k \\end{array} \\right. \\\\\n",
    "& \\left\\{ \\begin{array}{l} \\frac{(x-1)^2}{4}-\\frac{(z-2)^{2}}{9}=-\\frac{(y+2)^{2}}{5} \\\\ y=k \\end{array} \\right.\n",
    "\\end{align*}\n",
    "que para $y=-2$ son dos rectas que se cortan en $C$, y para el resto de valores reales de $k$ son siempre hipérbolas en el plano $y=k$ con eje focal paralelo al eje z:"
   ]
  },
  {
   "cell_type": "code",
   "execution_count": null,
   "metadata": {},
   "outputs": [],
   "source": [
    "ConINTPly15 = implicit_plot3d( Con == 0 , (x,-5,5), (y,1.49,1.51), (z,-5,5), color='red',  axes=True, frame=False )"
   ]
  },
  {
   "cell_type": "code",
   "execution_count": null,
   "metadata": {},
   "outputs": [],
   "source": [
    "ConINTPly05 = implicit_plot3d( Con == 0 , (x,-5,5), (y,0.49,0.51), (z,-5,5), color='red',  axes=True, frame=False )"
   ]
  },
  {
   "cell_type": "code",
   "execution_count": null,
   "metadata": {},
   "outputs": [],
   "source": [
    "ConINTPly0 = implicit_plot3d( Con == 0 , (x,-5,5), (y,-0.01,0), (z,-5,5), color='red',  axes=True, frame=False )"
   ]
  },
  {
   "cell_type": "code",
   "execution_count": null,
   "metadata": {},
   "outputs": [],
   "source": [
    "ConINTPlym1 = implicit_plot3d( Con == 0 , (x,-5,5), (y,-1.01,-1), (z,-5,5), color='red', axes=True, frame=False )"
   ]
  },
  {
   "cell_type": "code",
   "execution_count": null,
   "metadata": {},
   "outputs": [],
   "source": [
    "ConINTPlym2 =  implicit_plot3d( Con == 0, (x,-5,5), (y,-2.01,-2), (z,-5,5), color='red', axes=True, frame=False )"
   ]
  },
  {
   "cell_type": "code",
   "execution_count": null,
   "metadata": {},
   "outputs": [],
   "source": [
    "ConINTPlym3 =  implicit_plot3d( Con == 0, (x,-5,5), (y,-3.01,-3), (z,-5,5), color='red', axes=True, frame=False )"
   ]
  },
  {
   "cell_type": "code",
   "execution_count": null,
   "metadata": {},
   "outputs": [],
   "source": [
    "ConINTPlym4 =  implicit_plot3d( Con == 0, (x,-5,5), (y,-4.01,-4), (z,-5,5), color='red', axes=True, frame=False )"
   ]
  },
  {
   "cell_type": "code",
   "execution_count": null,
   "metadata": {},
   "outputs": [],
   "source": [
    "ConINTPlym5 =  implicit_plot3d( Con == 0, (x,-5,5), (y,-5.01,-5), (z,-5,5), color='red', axes=True, frame=False )"
   ]
  },
  {
   "cell_type": "code",
   "execution_count": null,
   "metadata": {},
   "outputs": [],
   "source": [
    "ConINTPlym6 =  implicit_plot3d( Con == 0, (x,-5,5), (y,-6.01,-6), (z,-5,5), color='red', axes=True, frame=False )"
   ]
  },
  {
   "cell_type": "code",
   "execution_count": null,
   "metadata": {},
   "outputs": [],
   "source": [
    "ConINTPlsParalym2 = ConINTPly0 + ConINTPlym1 + ConINTPlym2 + ConINTPlym3 + ConINTPlym4 + ConINTPly05 + ConINTPly15 + ConINTPlym5 + ConINTPlym6"
   ]
  },
  {
   "cell_type": "code",
   "execution_count": null,
   "metadata": {
    "scrolled": true
   },
   "outputs": [],
   "source": [
    "show( ConINTPlsParalym2 + PlsCoords + Cen)"
   ]
  },
  {
   "cell_type": "markdown",
   "metadata": {},
   "source": [
    "Finalmente vamos con los planos paralelos al plano z=2.\n",
    "\n",
    "Con planos paralelos al plano $z=2$ resulta:\n",
    "\\begin{align*}\n",
    "& \\left\\{ \\begin{array}{l} \\frac{(x-1)^2}{4}+\\frac{(y+2)^{2}}{5}-\\frac{(z-2)^{2}}{9}=0 \\\\ z=k \\end{array} \\right. \\\\\n",
    "& \\left\\{ \\begin{array}{l} \\frac{(x-1)^2}{4}+\\frac{(y+2)^{2}}{5}=\\frac{(k-2)^{2}}{9} \\\\ z=k \\end{array} \\right.\n",
    "\\end{align*}\n",
    "que para $k=2$ resulta el punto $C$, que será el vértice del cono, y para el resto de valores de $k\\in\\mathbb{R}$ serán elipses en el plano $z=k$."
   ]
  },
  {
   "cell_type": "code",
   "execution_count": null,
   "metadata": {},
   "outputs": [],
   "source": [
    "ConINTPlz2 = implicit_plot3d( Con == 0 , (x,-5,5), (y,-5,5), (z,1.99,2), color='green', axes=True, frame=False )"
   ]
  },
  {
   "cell_type": "code",
   "execution_count": null,
   "metadata": {},
   "outputs": [],
   "source": [
    "ConINTPlz3 = implicit_plot3d( Con == 0, (x,-5,5), (y,-5,5), (z,2.99,3), color='green',  axes=True, frame=False )"
   ]
  },
  {
   "cell_type": "code",
   "execution_count": null,
   "metadata": {},
   "outputs": [],
   "source": [
    "ConINTPlz4 = implicit_plot3d( Con == 0, (x,-5,5), (y,-5,5), (z,3.99,4), color='green',  axes=True, frame=False )"
   ]
  },
  {
   "cell_type": "code",
   "execution_count": null,
   "metadata": {},
   "outputs": [],
   "source": [
    "ConINTPlz1 = implicit_plot3d( Con == 0, (x,-5,5), (y,-5,5), (z,0.99,1), color='green',  axes=True, frame=False )"
   ]
  },
  {
   "cell_type": "code",
   "execution_count": null,
   "metadata": {},
   "outputs": [],
   "source": [
    "ConINTPlz0 = implicit_plot3d( Con == 0, (x,-5,5), (y,-5,5), (z,.01,0), color='green',  axes=True, frame=False )"
   ]
  },
  {
   "cell_type": "code",
   "execution_count": null,
   "metadata": {},
   "outputs": [],
   "source": [
    "ConINTPlsParalz2 = ConINTPlz2 + ConINTPlz3 + ConINTPlz4 + ConINTPlz1 + ConINTPlz0"
   ]
  },
  {
   "cell_type": "code",
   "execution_count": null,
   "metadata": {},
   "outputs": [],
   "source": [
    "show( ConINTPlsParalz2 + PlsCoords + Cen )"
   ]
  },
  {
   "cell_type": "markdown",
   "metadata": {},
   "source": [
    "Todas juntas ahora:"
   ]
  },
  {
   "cell_type": "code",
   "execution_count": null,
   "metadata": {},
   "outputs": [],
   "source": [
    "show( ConINTPlsParalx1 + ConINTPlsParalym2 + ConINTPlsParalz2 + PlsCoords + Cen )"
   ]
  },
  {
   "cell_type": "markdown",
   "metadata": {},
   "source": [
    "Y para SAGE es así:"
   ]
  },
  {
   "cell_type": "code",
   "execution_count": null,
   "metadata": {},
   "outputs": [],
   "source": [
    "Conoeliptico = implicit_plot3d( Con == 0, (x,-5,5), (y,-5,5), (z,-5,5), axes=True, frame=False, aspect_ratio = [1,1,1], color='magenta')"
   ]
  },
  {
   "cell_type": "code",
   "execution_count": null,
   "metadata": {},
   "outputs": [],
   "source": [
    "show( Conoeliptico )"
   ]
  },
  {
   "cell_type": "code",
   "execution_count": null,
   "metadata": {},
   "outputs": [],
   "source": [
    "show( Conoeliptico + PlsCoords + Cen)"
   ]
  },
  {
   "cell_type": "markdown",
   "metadata": {},
   "source": [
    "-- Estas notebooks fueron confeccionadas para la asignatura Álgebra y Geometría Analítica II correspondiente al primer año de todas las carreras de la Escuela de Cs. Exactas y Naturales de la Facultad de Cs. Exactas, Ingeniería y Agrimensura.\n",
    "\n",
    "Las docentes responsables somos Isolda E. Cardoso (isolda@fceia.unr.edu.ar) y Paola Tolomei. Al año 2022 hemos recorrido un largo camino dictando esta asignatura, y entre otras cosas hemos ido perfeccionando los laboratorios. Quedarán permanentemente, junto con una compilación de notas del curso, en el repositorio https://github.com/IsoldaEugenia/AyGAII-2022\n",
    "\n",
    "En caso de reproducirlas, se solicita citar la fuente.\n"
   ]
  },
  {
   "cell_type": "code",
   "execution_count": null,
   "metadata": {},
   "outputs": [],
   "source": []
  }
 ],
 "metadata": {
  "kernelspec": {
   "display_name": "SageMath 9.3",
   "language": "sage",
   "name": "sagemath"
  },
  "language_info": {
   "codemirror_mode": {
    "name": "ipython",
    "version": 3
   },
   "file_extension": ".py",
   "mimetype": "text/x-python",
   "name": "python",
   "nbconvert_exporter": "python",
   "pygments_lexer": "ipython3",
   "version": "3.7.10"
  }
 },
 "nbformat": 4,
 "nbformat_minor": 2
}
